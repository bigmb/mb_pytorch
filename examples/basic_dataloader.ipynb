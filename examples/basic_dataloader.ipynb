{
 "cells": [
  {
   "cell_type": "code",
   "execution_count": 1,
   "metadata": {},
   "outputs": [],
   "source": [
    "#Dataloader example"
   ]
  },
  {
   "cell_type": "code",
   "execution_count": 1,
   "metadata": {},
   "outputs": [],
   "source": [
    "# some packages need async support in jupyter\n",
    "import nest_asyncio\n",
    "nest_asyncio.apply()"
   ]
  },
  {
   "cell_type": "code",
   "execution_count": 9,
   "metadata": {},
   "outputs": [
    {
     "name": "stdout",
     "output_type": "stream",
     "text": [
      "Defaulting to user installation because normal site-packages is not writeable\n",
      "Requirement already satisfied: mb_pytorch in /home/malav/.local/lib/python3.11/site-packages (1.3.14)\n",
      "Collecting mb_pytorch\n",
      "  Obtaining dependency information for mb_pytorch from https://files.pythonhosted.org/packages/c8/f6/ebd70cf9a58faca6e6bbd0ce26ff480728614b8d0e9d81b78b1813f0da60/mb_pytorch-1.3.15-py3-none-any.whl.metadata\n",
      "  Downloading mb_pytorch-1.3.15-py3-none-any.whl.metadata (206 bytes)\n",
      "Requirement already satisfied: mb_base in /home/malav/.local/lib/python3.11/site-packages (from mb_pytorch) (1.1.11)\n",
      "Requirement already satisfied: mb_utils in /home/malav/.local/lib/python3.11/site-packages (from mb_pytorch) (1.0.202307061425)\n",
      "Requirement already satisfied: mb_pandas in /home/malav/.local/lib/python3.11/site-packages (from mb_pytorch) (1.1.15)\n",
      "Requirement already satisfied: numpy in /home/malav/.local/lib/python3.11/site-packages (from mb_utils->mb_pytorch) (1.26.4)\n",
      "Requirement already satisfied: pandas in /home/malav/.local/lib/python3.11/site-packages (from mb_utils->mb_pytorch) (2.2.3)\n",
      "Requirement already satisfied: colorama in /home/malav/.local/lib/python3.11/site-packages (from mb_utils->mb_pytorch) (0.4.6)\n",
      "Requirement already satisfied: fastprogress in /home/malav/.local/lib/python3.11/site-packages (from mb_utils->mb_pytorch) (1.0.3)\n",
      "Requirement already satisfied: boto3 in /home/malav/.local/lib/python3.11/site-packages (from mb_utils->mb_pytorch) (1.35.76)\n",
      "Requirement already satisfied: botocore<1.36.0,>=1.35.76 in /home/malav/.local/lib/python3.11/site-packages (from boto3->mb_utils->mb_pytorch) (1.35.76)\n",
      "Requirement already satisfied: jmespath<2.0.0,>=0.7.1 in /home/malav/.local/lib/python3.11/site-packages (from boto3->mb_utils->mb_pytorch) (1.0.1)\n",
      "Requirement already satisfied: s3transfer<0.11.0,>=0.10.0 in /home/malav/.local/lib/python3.11/site-packages (from boto3->mb_utils->mb_pytorch) (0.10.4)\n",
      "Requirement already satisfied: python-dateutil>=2.8.2 in /home/malav/.local/lib/python3.11/site-packages (from pandas->mb_utils->mb_pytorch) (2.9.0.post0)\n",
      "Requirement already satisfied: pytz>=2020.1 in /home/malav/.local/lib/python3.11/site-packages (from pandas->mb_utils->mb_pytorch) (2024.2)\n",
      "Requirement already satisfied: tzdata>=2022.7 in /home/malav/.local/lib/python3.11/site-packages (from pandas->mb_utils->mb_pytorch) (2024.2)\n",
      "Requirement already satisfied: urllib3!=2.2.0,<3,>=1.25.4 in /home/malav/.local/lib/python3.11/site-packages (from botocore<1.36.0,>=1.35.76->boto3->mb_utils->mb_pytorch) (2.2.3)\n",
      "Requirement already satisfied: six>=1.5 in /home/malav/.local/lib/python3.11/site-packages (from python-dateutil>=2.8.2->pandas->mb_utils->mb_pytorch) (1.17.0)\n",
      "Downloading mb_pytorch-1.3.15-py3-none-any.whl (63 kB)\n",
      "   25l   ━━━━━━━━━━━━━━━━━━━━━━━━━━━━━━━━━━━━━━━━ 0.0/63.0 kB ? eta -:--:--━━━━━━━━━━━━━━━━━━━━━━━━━━━━━━━━━━━━━━━━ 63.0/63.0 kB 7.2 MB/s eta 0:00:00\n",
      "\u001b[?25hInstalling collected packages: mb_pytorch\n",
      "  Attempting uninstall: mb_pytorch\n",
      "    Found existing installation: mb_pytorch 1.3.14\n",
      "    Uninstalling mb_pytorch-1.3.14:\n",
      "      Successfully uninstalled mb_pytorch-1.3.14\n",
      "Successfully installed mb_pytorch-1.3.15\n"
     ]
    }
   ],
   "source": [
    "!pip install mb_pytorch -U --break-system-packages"
   ]
  },
  {
   "cell_type": "code",
   "execution_count": 2,
   "metadata": {},
   "outputs": [],
   "source": [
    "from mb_utils.src.logging import logger\n",
    "from mb_pytorch.utils.yaml_reader import YAMLReader\n",
    "from mb_pytorch.dataloader.loader import BaseDataset, TorchDataLoader"
   ]
  },
  {
   "cell_type": "code",
   "execution_count": 3,
   "metadata": {},
   "outputs": [],
   "source": [
    "yaml_read = YAMLReader('../scripts/loader_y.yaml') #load the data"
   ]
  },
  {
   "cell_type": "code",
   "execution_count": 4,
   "metadata": {},
   "outputs": [],
   "source": [
    "yaml_data = yaml_read.read()"
   ]
  },
  {
   "cell_type": "code",
   "execution_count": 5,
   "metadata": {},
   "outputs": [
    {
     "data": {
      "text/plain": [
       "{'data': {'file': {'root': '/home/malav/Desktop/mb_packages/mb_pytorch/data/fruit_dataset/fruit_dataset_final_test.csv',\n",
       "   'verify_image_path': True,\n",
       "   'verify_image': False}},\n",
       " 'model': {'model_type': 'detection',\n",
       "  'model': 'faster_rcnn',\n",
       "  'use_pretrained': True,\n",
       "  'use_own_model': False,\n",
       "  'model_path': '/home/malav/Desktop/mb_packages/mb_pytorch/models/...',\n",
       "  'model_layer': 'avgpool',\n",
       "  'device': 'cpu',\n",
       "  'load_model': False,\n",
       "  'use_torchvision_models': True,\n",
       "  'model_name': 'fasterrcnn_resnet50_fpn',\n",
       "  'model_version': '50',\n",
       "  'model_backbone': 'resnet',\n",
       "  'model_optimizer': 'Adam',\n",
       "  'model_loss': 'cross_entropy',\n",
       "  'model_scheduler': 'StepLR',\n",
       "  'model_pretrained': True,\n",
       "  'model_epochs': 3,\n",
       "  'model_num_classes': 41,\n",
       "  'model_initialization': 'None',\n",
       "  'model_meta_data': {'model_bbox_threshold': 0.8},\n",
       "  'model_train_parameters': {'Adam': {'lr': 0.001,\n",
       "    'betas': [0.9, 0.999],\n",
       "    'eps': 1e-08,\n",
       "    'weight_decay': 0,\n",
       "    'amsgrad': False},\n",
       "   'SGD': {'lr': 0.01,\n",
       "    'momentum': 0.9,\n",
       "    'dampening': 0,\n",
       "    'weight_decay': 0,\n",
       "    'nesterov': False},\n",
       "   'RMSprop': {'lr': 0.01,\n",
       "    'alpha': 0.99,\n",
       "    'eps': 1e-08,\n",
       "    'weight_decay': 0,\n",
       "    'momentum': 0,\n",
       "    'centered': False},\n",
       "   'cross_entropy': {'weight': 'None',\n",
       "    'size_average': 'None',\n",
       "    'ignore_index': -100,\n",
       "    'reduce': 'None',\n",
       "    'reduction': 'mean'},\n",
       "   'mse_loss': {'size_average': 'None', 'reduce': 'None', 'reduction': 'mean'},\n",
       "   'StepLR': {'step_size': 3, 'gamma': 0.2},\n",
       "   'ExponentialLR': {'gamma': 0.9}}},\n",
       " 'train_params': {'batch_size': 8,\n",
       "  'num_workers': 4,\n",
       "  'pin_memory': True,\n",
       "  'shuffle': False,\n",
       "  'seed': 42},\n",
       " 'test_params': {'batch_size': 8,\n",
       "  'num_workers': 4,\n",
       "  'pin_memory': True,\n",
       "  'shuffle': False,\n",
       "  'seed': 42},\n",
       " 'transformation': {'transform': True,\n",
       "  'resize': {'val': True, 'args': {'size': [600, 800]}},\n",
       "  'random_crop': {'val': False, 'args': {'size': [224, 224]}},\n",
       "  'random_horizontal_flip': {'val': False, 'args': {'p': 0.5}},\n",
       "  'random_vertical_flip': {'val': False, 'args': {'p': 0.5}},\n",
       "  'random_rotation': {'val': False, 'args': {'degrees': 90}},\n",
       "  'random_grayscale': {'val': False, 'args': {'p': 0.1}},\n",
       "  'random_color_jitter': {'val': False,\n",
       "   'args': {'brightness': 0.4,\n",
       "    'contrast': 0.4,\n",
       "    'saturation': 0.4,\n",
       "    'hue': 0.1}},\n",
       "  'normalize': {'val': False,\n",
       "   'args': {'mean': [0.485, 0.456, 0.406], 'std': [0.229, 0.224, 0.225]}},\n",
       "  'to_tensor': {'val': True}}}"
      ]
     },
     "execution_count": 5,
     "metadata": {},
     "output_type": "execute_result"
    }
   ],
   "source": [
    "yaml_data"
   ]
  },
  {
   "cell_type": "code",
   "execution_count": 6,
   "metadata": {},
   "outputs": [
    {
     "name": "stdout",
     "output_type": "stream",
     "text": [
      "\u001b[0;31mInit signature:\u001b[0m\n",
      "\u001b[0mBaseDataset\u001b[0m\u001b[0;34m(\u001b[0m\u001b[0;34m\u001b[0m\n",
      "\u001b[0;34m\u001b[0m    \u001b[0mdata_config\u001b[0m\u001b[0;34m:\u001b[0m \u001b[0mDict\u001b[0m\u001b[0;34m[\u001b[0m\u001b[0mstr\u001b[0m\u001b[0;34m,\u001b[0m \u001b[0mAny\u001b[0m\u001b[0;34m]\u001b[0m\u001b[0;34m,\u001b[0m\u001b[0;34m\u001b[0m\n",
      "\u001b[0;34m\u001b[0m    \u001b[0mtask_type\u001b[0m\u001b[0;34m:\u001b[0m \u001b[0mstr\u001b[0m\u001b[0;34m,\u001b[0m\u001b[0;34m\u001b[0m\n",
      "\u001b[0;34m\u001b[0m    \u001b[0mtransform\u001b[0m\u001b[0;34m:\u001b[0m \u001b[0mOptional\u001b[0m\u001b[0;34m[\u001b[0m\u001b[0mmb_pytorch\u001b[0m\u001b[0;34m.\u001b[0m\u001b[0mdataloader\u001b[0m\u001b[0;34m.\u001b[0m\u001b[0mloader\u001b[0m\u001b[0;34m.\u001b[0m\u001b[0mTransformCompose\u001b[0m\u001b[0;34m]\u001b[0m \u001b[0;34m=\u001b[0m \u001b[0;32mNone\u001b[0m\u001b[0;34m,\u001b[0m\u001b[0;34m\u001b[0m\n",
      "\u001b[0;34m\u001b[0m    \u001b[0mis_train\u001b[0m\u001b[0;34m:\u001b[0m \u001b[0mbool\u001b[0m \u001b[0;34m=\u001b[0m \u001b[0;32mTrue\u001b[0m\u001b[0;34m,\u001b[0m\u001b[0;34m\u001b[0m\n",
      "\u001b[0;34m\u001b[0m    \u001b[0mlogger\u001b[0m\u001b[0;34m:\u001b[0m \u001b[0mOptional\u001b[0m\u001b[0;34m[\u001b[0m\u001b[0mAny\u001b[0m\u001b[0;34m]\u001b[0m \u001b[0;34m=\u001b[0m \u001b[0;32mNone\u001b[0m\u001b[0;34m,\u001b[0m\u001b[0;34m\u001b[0m\n",
      "\u001b[0;34m\u001b[0m\u001b[0;34m)\u001b[0m\u001b[0;34m\u001b[0m\u001b[0;34m\u001b[0m\u001b[0m\n",
      "\u001b[0;31mDocstring:\u001b[0m      Base dataset class supporting classification, detection, and segmentation.\n",
      "\u001b[0;31mInit docstring:\u001b[0m\n",
      "Initialize dataset.\n",
      "\n",
      "Args:\n",
      "    data_config: Dataset configuration\n",
      "    task_type: Type of task ('classification', 'detection', 'segmentation')\n",
      "    transform: Optional transform composition\n",
      "    is_train: Whether this is training data\n",
      "    logger: Optional logger instance\n",
      "\u001b[0;31mFile:\u001b[0m           ~/.local/lib/python3.11/site-packages/mb_pytorch/dataloader/loader.py\n",
      "\u001b[0;31mType:\u001b[0m           type\n",
      "\u001b[0;31mSubclasses:\u001b[0m     "
     ]
    }
   ],
   "source": [
    "BaseDataset?"
   ]
  },
  {
   "cell_type": "code",
   "execution_count": 7,
   "metadata": {},
   "outputs": [
    {
     "name": "stderr",
     "output_type": "stream",
     "text": [
      "Mon 10:53:22,012 INF Loading data from /home/malav/Desktop/mb_packages/mb_pytorch/data/fruit_dataset/fruit_dataset_final_test.csv    \n",
      "Mon 10:53:22,014 INF Loading DataFrame from /home/malav/Desktop/mb_packages/mb_pytorch/data/fruit_dataset/fruit_dataset_final_test.cs\n",
      "Mon 10:53:22,018 INF Successfully loaded DataFrame with shape (50, 5)                                                                \n",
      "Mon 10:53:22,022 INF Checking duplicates for columns: ['image_path']                                                                 \n",
      "Mon 10:53:22,024 INF No duplicates found                                                                                             \n",
      "Mon 10:53:22,027 INF Removing unnamed columns                                                                                        \n"
     ]
    },
    {
     "name": "stdout",
     "output_type": "stream",
     "text": [
      "Empty DataFrame\n",
      "Columns: [image_id, image_path, bbox, label, image_type]\n",
      "Index: []\n",
      "{}\n"
     ]
    },
    {
     "ename": "UnboundLocalError",
     "evalue": "cannot access local variable 'labels_final_num' where it is not associated with a value",
     "output_type": "error",
     "traceback": [
      "\u001b[0;31m---------------------------------------------------------------------------\u001b[0m",
      "\u001b[0;31mUnboundLocalError\u001b[0m                         Traceback (most recent call last)",
      "Cell \u001b[0;32mIn[7], line 2\u001b[0m\n\u001b[1;32m      1\u001b[0m \u001b[38;5;66;03m# from mb_utils.src.logging import logger\u001b[39;00m\n\u001b[0;32m----> 2\u001b[0m train_dataset \u001b[38;5;241m=\u001b[39m \u001b[43mBaseDataset\u001b[49m\u001b[43m(\u001b[49m\u001b[43mdata_config\u001b[49m\u001b[38;5;241;43m=\u001b[39;49m\u001b[43myaml_data\u001b[49m\u001b[43m[\u001b[49m\u001b[38;5;124;43m'\u001b[39;49m\u001b[38;5;124;43mdata\u001b[39;49m\u001b[38;5;124;43m'\u001b[39;49m\u001b[43m]\u001b[49m\u001b[43m[\u001b[49m\u001b[38;5;124;43m'\u001b[39;49m\u001b[38;5;124;43mfile\u001b[39;49m\u001b[38;5;124;43m'\u001b[39;49m\u001b[43m]\u001b[49m\u001b[43m,\u001b[49m\u001b[43m \u001b[49m\u001b[43mtask_type\u001b[49m\u001b[38;5;241;43m=\u001b[39;49m\u001b[43myaml_data\u001b[49m\u001b[43m[\u001b[49m\u001b[38;5;124;43m'\u001b[39;49m\u001b[38;5;124;43mmodel\u001b[39;49m\u001b[38;5;124;43m'\u001b[39;49m\u001b[43m]\u001b[49m\u001b[43m[\u001b[49m\u001b[38;5;124;43m'\u001b[39;49m\u001b[38;5;124;43mmodel_type\u001b[39;49m\u001b[38;5;124;43m'\u001b[39;49m\u001b[43m]\u001b[49m\u001b[43m,\u001b[49m\u001b[43m \u001b[49m\n\u001b[1;32m      3\u001b[0m \u001b[43m            \u001b[49m\u001b[43mtransform\u001b[49m\u001b[38;5;241;43m=\u001b[39;49m\u001b[43myaml_data\u001b[49m\u001b[43m[\u001b[49m\u001b[38;5;124;43m'\u001b[39;49m\u001b[38;5;124;43mtransformation\u001b[39;49m\u001b[38;5;124;43m'\u001b[39;49m\u001b[43m]\u001b[49m\u001b[43m,\u001b[49m\u001b[43mis_train\u001b[49m\u001b[38;5;241;43m=\u001b[39;49m\u001b[38;5;28;43;01mTrue\u001b[39;49;00m\u001b[43m,\u001b[49m\u001b[43mlogger\u001b[49m\u001b[38;5;241;43m=\u001b[39;49m\u001b[43mlogger\u001b[49m\u001b[43m)\u001b[49m\n",
      "File \u001b[0;32m~/.local/lib/python3.11/site-packages/mb_pytorch/dataloader/loader.py:186\u001b[0m, in \u001b[0;36mBaseDataset.__init__\u001b[0;34m(self, data_config, task_type, transform, is_train, logger)\u001b[0m\n\u001b[1;32m    184\u001b[0m \u001b[38;5;28mself\u001b[39m\u001b[38;5;241m.\u001b[39mdata \u001b[38;5;241m=\u001b[39m \u001b[38;5;28mself\u001b[39m\u001b[38;5;241m.\u001b[39m_load_data()\n\u001b[1;32m    185\u001b[0m \u001b[38;5;28mself\u001b[39m\u001b[38;5;241m.\u001b[39m_verify_data()\n\u001b[0;32m--> 186\u001b[0m \u001b[38;5;28;43mself\u001b[39;49m\u001b[38;5;241;43m.\u001b[39;49m\u001b[43m_process_labels\u001b[49m\u001b[43m(\u001b[49m\u001b[43m)\u001b[49m\n",
      "File \u001b[0;32m~/.local/lib/python3.11/site-packages/mb_pytorch/dataloader/loader.py:233\u001b[0m, in \u001b[0;36mBaseDataset._process_labels\u001b[0;34m(self)\u001b[0m\n\u001b[1;32m    231\u001b[0m \u001b[38;5;250m\u001b[39m\u001b[38;5;124;03m\"\"\"Process and map labels to numbers.\"\"\"\u001b[39;00m\n\u001b[1;32m    232\u001b[0m output_path \u001b[38;5;241m=\u001b[39m os\u001b[38;5;241m.\u001b[39mpath\u001b[38;5;241m.\u001b[39mjoin(os\u001b[38;5;241m.\u001b[39mpath\u001b[38;5;241m.\u001b[39mdirname(\u001b[38;5;28mself\u001b[39m\u001b[38;5;241m.\u001b[39mconfig[\u001b[38;5;124m'\u001b[39m\u001b[38;5;124mroot\u001b[39m\u001b[38;5;124m'\u001b[39m]), \u001b[38;5;124m'\u001b[39m\u001b[38;5;124mlabel_num_map.csv\u001b[39m\u001b[38;5;124m'\u001b[39m)\n\u001b[0;32m--> 233\u001b[0m \u001b[38;5;28mself\u001b[39m\u001b[38;5;241m.\u001b[39mdata \u001b[38;5;241m=\u001b[39m \u001b[43mlabels_num_map\u001b[49m\u001b[43m(\u001b[49m\u001b[38;5;28;43mself\u001b[39;49m\u001b[38;5;241;43m.\u001b[39;49m\u001b[43mdata\u001b[49m\u001b[43m,\u001b[49m\u001b[43m \u001b[49m\u001b[43moutput_csv\u001b[49m\u001b[38;5;241;43m=\u001b[39;49m\u001b[43moutput_path\u001b[49m\u001b[43m)\u001b[49m\n\u001b[1;32m    235\u001b[0m \u001b[38;5;66;03m# Save processed data\u001b[39;00m\n\u001b[1;32m    236\u001b[0m \u001b[38;5;28;01mif\u001b[39;00m os\u001b[38;5;241m.\u001b[39mpath\u001b[38;5;241m.\u001b[39mdirname(\u001b[38;5;28mself\u001b[39m\u001b[38;5;241m.\u001b[39mconfig[\u001b[38;5;124m'\u001b[39m\u001b[38;5;124mroot\u001b[39m\u001b[38;5;124m'\u001b[39m]):\n",
      "File \u001b[0;32m~/.local/lib/python3.11/site-packages/mb_pytorch/utils/extra_utils.py:81\u001b[0m, in \u001b[0;36mlabels_num_map\u001b[0;34m(input_csv, output_csv)\u001b[0m\n\u001b[1;32m     79\u001b[0m     labels_num\u001b[38;5;241m.\u001b[39mappend(temp_list)\n\u001b[1;32m     80\u001b[0m     labels_final_num \u001b[38;5;241m=\u001b[39m [xs[x] \u001b[38;5;28;01mfor\u001b[39;00m xs \u001b[38;5;129;01min\u001b[39;00m labels_num \u001b[38;5;28;01mfor\u001b[39;00m x \u001b[38;5;129;01min\u001b[39;00m \u001b[38;5;28mrange\u001b[39m(\u001b[38;5;28mlen\u001b[39m(xs))]\n\u001b[0;32m---> 81\u001b[0m df[\u001b[38;5;124m'\u001b[39m\u001b[38;5;124mlabel_num\u001b[39m\u001b[38;5;124m'\u001b[39m] \u001b[38;5;241m=\u001b[39m \u001b[43mlabels_final_num\u001b[49m\n\u001b[1;32m     82\u001b[0m \u001b[38;5;28;01mreturn\u001b[39;00m df\n",
      "\u001b[0;31mUnboundLocalError\u001b[0m: cannot access local variable 'labels_final_num' where it is not associated with a value"
     ]
    }
   ],
   "source": [
    "# from mb_utils.src.logging import logger\n",
    "train_dataset = BaseDataset(data_config=yaml_data['data']['file'], task_type=yaml_data['model']['model_type'], \n",
    "            transform=yaml_data['transformation'],is_train=True,logger=logger)"
   ]
  },
  {
   "cell_type": "code",
   "execution_count": null,
   "metadata": {},
   "outputs": [],
   "source": [
    "\n"
   ]
  },
  {
   "cell_type": "code",
   "execution_count": null,
   "metadata": {},
   "outputs": [],
   "source": [
    "from typing import Dict, Any, Optional, List, Tuple, Union, Callable\n",
    "import os\n",
    "import cv2\n",
    "import numpy as np\n",
    "import pandas as pd\n",
    "import torch\n",
    "from torch.utils.data import Dataset\n",
    "import torchvision.transforms as transforms\n",
    "# from mb_pytorch.utils.yaml_reader import YAMLReader\n",
    "from mb_pandas.dfload import load_any_df\n",
    "from mb_pandas.transform import remove_unnamed,check_drop_duplicates\n",
    "from mb_utils.src.verify_image import verify_image\n",
    "# from ..utils.extra_utils import labels_num_map\n",
    "\n",
    "class BaseDataset(Dataset):\n",
    "    \"\"\"Base dataset class supporting classification, detection, and segmentation.\"\"\"\n",
    "    \n",
    "    def __init__(\n",
    "        self,\n",
    "        data_config: Dict[str, Any],\n",
    "        task_type: str,\n",
    "        transform: Optional[Any] = None,\n",
    "        is_train: bool = True,\n",
    "        logger: Optional[Any] = None\n",
    "    ):\n",
    "        \"\"\"\n",
    "        Initialize dataset.\n",
    "        \n",
    "        Args:\n",
    "            data_config: Dataset configuration\n",
    "            task_type: Type of task ('classification', 'detection', 'segmentation')\n",
    "            transform: Optional transform composition\n",
    "            is_train: Whether this is training data\n",
    "            logger: Optional logger instance\n",
    "        \"\"\"\n",
    "        self.config = data_config\n",
    "        self.task_type = task_type\n",
    "        self.transform = transform\n",
    "        self.is_train = is_train\n",
    "        self.logger = logger\n",
    "        \n",
    "        # Load and process data\n",
    "        self.data = self._load_data()\n",
    "        self._verify_data()\n",
    "        # self._process_labels()\n",
    "    \n",
    "    def _load_data(self) -> pd.DataFrame:\n",
    "        \"\"\"Load and validate data from CSV.\"\"\"\n",
    "        if self.logger:\n",
    "            self.logger.info(f\"Loading data from {self.config['root']}\")\n",
    "            \n",
    "        df = load_any_df(self.config['root'], logger=self.logger)\n",
    "        \n",
    "        required_cols = ['image_path', 'image_type', 'label']\n",
    "        if self.task_type == 'segmentation':\n",
    "            required_cols.append('mask_path')\n",
    "        elif self.task_type == 'detection':\n",
    "            required_cols.append('bbox')\n",
    "            \n",
    "        for col in required_cols:\n",
    "            if col not in df.columns:\n",
    "                raise ValueError(f\"Required column '{col}' not found in data\")\n",
    "        \n",
    "        return df\n",
    "    \n",
    "    def _verify_data(self):\n",
    "        \"\"\"Verify image paths and optionally image content.\"\"\"\n",
    "        # Verify paths exist\n",
    "        self.data = self.data[self.data['image_path'].apply(os.path.exists)].reset_index(drop=True)\n",
    "        # Optionally verify image content\n",
    "        if self.config.get('verify_image', False):\n",
    "            if self.logger:\n",
    "                self.logger.info(\"Verifying images...\")\n",
    "            self.data = self.data[\n",
    "                self.data['image_path'].apply(lambda x: verify_image(x, logger=self.logger))\n",
    "            ].reset_index(drop=True)\n",
    "        \n",
    "        # Filter by split\n",
    "        split_type = 'training' if self.is_train else 'validation'\n",
    "        self.data = self.data[self.data['image_type'].isin([split_type, split_type[:4]])].reset_index(drop=True) ##check if creating 2 dataloaders here?\n",
    "\n",
    "        # Remove duplicates and unnamed columns\n",
    "        self.data = check_drop_duplicates(self.data, columns=['image_path'], drop=True, logger=self.logger)\n",
    "        self.data = remove_unnamed(self.data, logger=self.logger)\n",
    "        # self.data.reset_index(drop=True, inplace=True)\n",
    "        # self.data.to_csv(os.path.join(os.path.dirname(self.config['root']),'clean_data.csv'), index=False)\n",
    "    \n",
    "    def _process_labels(self):\n",
    "        \"\"\"Process and map labels to numbers.\"\"\"\n",
    "        output_path = os.path.join(os.path.dirname(self.config['root']), 'label_num_map.csv')\n",
    "        # self.data = labels_num_map(self.data, output_csv=output_path)\n",
    "        \n",
    "        # Save processed data\n",
    "        if os.path.dirname(self.config['root']):\n",
    "            suffix = 'train' if self.is_train else 'val'\n",
    "            self.data.to_csv(\n",
    "                os.path.join(os.path.dirname(self.config['root']), f'{suffix}_wrangled_file.csv'),\n",
    "                index=False\n",
    "            )\n",
    "    \n",
    "    def __len__(self) -> int:\n",
    "        return len(self.data)\n",
    "    \n",
    "    def __getitem__(self, idx: int) -> Dict[str, torch.Tensor]:\n",
    "        \"\"\"Get a data sample.\"\"\"\n",
    "        # Load image\n",
    "        img_path = self.data['image_path'].iloc[idx]\n",
    "        img = cv2.imread(img_path)\n",
    "        img = cv2.cvtColor(img, cv2.COLOR_BGR2RGB)\n",
    "        \n",
    "        # Prepare data based on task type\n",
    "        if self.task_type == 'classification':\n",
    "            if self.transform:\n",
    "                img = self.transform(img)\n",
    "            return {\n",
    "                'image': img,\n",
    "                'label': self.data['label_num'].iloc[idx]\n",
    "            }\n",
    "            \n",
    "        elif self.task_type == 'segmentation':\n",
    "            mask = cv2.imread(self.data['mask_path'].iloc[idx], cv2.IMREAD_GRAYSCALE)\n",
    "            if self.transform:\n",
    "                img, mask = self.transform(img, mask=mask)\n",
    "            return {\n",
    "                'image': img,\n",
    "                'mask': mask,\n",
    "                'label': self.data['label_num'].iloc[idx]\n",
    "            }\n",
    "            \n",
    "        elif self.task_type == 'detection':\n",
    "            bbox = eval(self.data['bbox'].iloc[idx])\n",
    "            if self.transform:\n",
    "                img, bbox = self.transform(img, bbox=bbox)\n",
    "            else:\n",
    "                img = transforms.ToTensor()(img)\n",
    "                bbox = torch.tensor([bbox], dtype=torch.int32)\n",
    "            return {\n",
    "                'image': img,\n",
    "                'bbox': bbox,\n",
    "                'label': self.data['label_num'].iloc[idx]\n",
    "            }\n"
   ]
  },
  {
   "cell_type": "code",
   "execution_count": 16,
   "metadata": {},
   "outputs": [
    {
     "name": "stderr",
     "output_type": "stream",
     "text": [
      "Mon 12:29:02,391 INF Loading data from /home/malav/Desktop/mb_packages/mb_pytorch/data/fruit_dataset/fruit_dataset_final_test.csv    \n",
      "Mon 12:29:02,394 INF Loading DataFrame from /home/malav/Desktop/mb_packages/mb_pytorch/data/fruit_dataset/fruit_dataset_final_test.cs\n",
      "Mon 12:29:02,399 INF Successfully loaded DataFrame with shape (50, 5)                                                                \n"
     ]
    },
    {
     "name": "stdout",
     "output_type": "stream",
     "text": [
      "Empty DataFrame\n",
      "Columns: [image_id, image_path, bbox, label, image_type]\n",
      "Index: []\n"
     ]
    },
    {
     "name": "stderr",
     "output_type": "stream",
     "text": [
      "Mon 12:29:02,404 INF Checking duplicates for columns: ['image_path']                                                                 \n",
      "Mon 12:29:02,406 INF No duplicates found                                                                                             \n",
      "Mon 12:29:02,408 INF Removing unnamed columns                                                                                        \n"
     ]
    }
   ],
   "source": [
    "train_dataset = BaseDataset(data_config=yaml_data['data']['file'], task_type=yaml_data['model']['model_type'], \n",
    "            transform=yaml_data['transformation'],is_train=True,logger=logger)"
   ]
  },
  {
   "cell_type": "code",
   "execution_count": 12,
   "metadata": {},
   "outputs": [
    {
     "name": "stderr",
     "output_type": "stream",
     "text": [
      "Mon 10:56:58,250 INF Loading data from /home/malav/Desktop/mb_packages/mb_pytorch/data/fruit_dataset/fruit_dataset_final_test.csv    \n",
      "Mon 10:56:58,253 INF Loading DataFrame from /home/malav/Desktop/mb_packages/mb_pytorch/data/fruit_dataset/fruit_dataset_final_test.cs\n",
      "Mon 10:56:58,258 INF Successfully loaded DataFrame with shape (50, 5)                                                                \n"
     ]
    },
    {
     "data": {
      "text/html": [
       "<div>\n",
       "<style scoped>\n",
       "    .dataframe tbody tr th:only-of-type {\n",
       "        vertical-align: middle;\n",
       "    }\n",
       "\n",
       "    .dataframe tbody tr th {\n",
       "        vertical-align: top;\n",
       "    }\n",
       "\n",
       "    .dataframe thead th {\n",
       "        text-align: right;\n",
       "    }\n",
       "</style>\n",
       "<table border=\"1\" class=\"dataframe\">\n",
       "  <thead>\n",
       "    <tr style=\"text-align: right;\">\n",
       "      <th></th>\n",
       "      <th>image_id</th>\n",
       "      <th>image_path</th>\n",
       "      <th>bbox</th>\n",
       "      <th>label</th>\n",
       "      <th>image_type</th>\n",
       "    </tr>\n",
       "  </thead>\n",
       "  <tbody>\n",
       "    <tr>\n",
       "      <th>0</th>\n",
       "      <td>0</td>\n",
       "      <td>/home/malav/Downloads/datasets/fruit_detection...</td>\n",
       "      <td>[26, 69, 604, 581]</td>\n",
       "      <td>orange</td>\n",
       "      <td>train</td>\n",
       "    </tr>\n",
       "    <tr>\n",
       "      <th>1</th>\n",
       "      <td>1</td>\n",
       "      <td>/home/malav/Downloads/datasets/fruit_detection...</td>\n",
       "      <td>[29, 1, 834, 214]</td>\n",
       "      <td>banana</td>\n",
       "      <td>train</td>\n",
       "    </tr>\n",
       "    <tr>\n",
       "      <th>2</th>\n",
       "      <td>2</td>\n",
       "      <td>/home/malav/Downloads/datasets/fruit_detection...</td>\n",
       "      <td>[43, 67, 220, 234]</td>\n",
       "      <td>apple</td>\n",
       "      <td>train</td>\n",
       "    </tr>\n",
       "    <tr>\n",
       "      <th>3</th>\n",
       "      <td>3</td>\n",
       "      <td>/home/malav/Downloads/datasets/fruit_detection...</td>\n",
       "      <td>[36, 48, 323, 334]</td>\n",
       "      <td>apple</td>\n",
       "      <td>train</td>\n",
       "    </tr>\n",
       "    <tr>\n",
       "      <th>4</th>\n",
       "      <td>4</td>\n",
       "      <td>/home/malav/Downloads/datasets/fruit_detection...</td>\n",
       "      <td>[21, 27, 319, 315]</td>\n",
       "      <td>apple</td>\n",
       "      <td>train</td>\n",
       "    </tr>\n",
       "    <tr>\n",
       "      <th>5</th>\n",
       "      <td>5</td>\n",
       "      <td>/home/malav/Downloads/datasets/fruit_detection...</td>\n",
       "      <td>[202, 37, 470, 314]</td>\n",
       "      <td>apple</td>\n",
       "      <td>train</td>\n",
       "    </tr>\n",
       "    <tr>\n",
       "      <th>6</th>\n",
       "      <td>6</td>\n",
       "      <td>/home/malav/Downloads/datasets/fruit_detection...</td>\n",
       "      <td>[415, 261, 720, 567]</td>\n",
       "      <td>apple</td>\n",
       "      <td>train</td>\n",
       "    </tr>\n",
       "    <tr>\n",
       "      <th>7</th>\n",
       "      <td>7</td>\n",
       "      <td>/home/malav/Downloads/datasets/fruit_detection...</td>\n",
       "      <td>[54, 156, 534, 360]</td>\n",
       "      <td>banana</td>\n",
       "      <td>train</td>\n",
       "    </tr>\n",
       "    <tr>\n",
       "      <th>8</th>\n",
       "      <td>8</td>\n",
       "      <td>/home/malav/Downloads/datasets/fruit_detection...</td>\n",
       "      <td>[14, 44, 270, 300]</td>\n",
       "      <td>apple</td>\n",
       "      <td>train</td>\n",
       "    </tr>\n",
       "    <tr>\n",
       "      <th>9</th>\n",
       "      <td>9</td>\n",
       "      <td>/home/malav/Downloads/datasets/fruit_detection...</td>\n",
       "      <td>[184, 221, 1226, 712]</td>\n",
       "      <td>banana</td>\n",
       "      <td>train</td>\n",
       "    </tr>\n",
       "    <tr>\n",
       "      <th>10</th>\n",
       "      <td>10</td>\n",
       "      <td>/home/malav/Downloads/datasets/fruit_detection...</td>\n",
       "      <td>[126, 16, 422, 288]</td>\n",
       "      <td>banana</td>\n",
       "      <td>train</td>\n",
       "    </tr>\n",
       "    <tr>\n",
       "      <th>11</th>\n",
       "      <td>11</td>\n",
       "      <td>/home/malav/Downloads/datasets/fruit_detection...</td>\n",
       "      <td>[12, 54, 342, 386]</td>\n",
       "      <td>orange</td>\n",
       "      <td>train</td>\n",
       "    </tr>\n",
       "    <tr>\n",
       "      <th>12</th>\n",
       "      <td>12</td>\n",
       "      <td>/home/malav/Downloads/datasets/fruit_detection...</td>\n",
       "      <td>[147, 218, 336, 412]</td>\n",
       "      <td>apple</td>\n",
       "      <td>train</td>\n",
       "    </tr>\n",
       "    <tr>\n",
       "      <th>13</th>\n",
       "      <td>13</td>\n",
       "      <td>/home/malav/Downloads/datasets/fruit_detection...</td>\n",
       "      <td>[349, 227, 861, 784]</td>\n",
       "      <td>apple</td>\n",
       "      <td>train</td>\n",
       "    </tr>\n",
       "    <tr>\n",
       "      <th>14</th>\n",
       "      <td>14</td>\n",
       "      <td>/home/malav/Downloads/datasets/fruit_detection...</td>\n",
       "      <td>[291, 55, 588, 342]</td>\n",
       "      <td>apple</td>\n",
       "      <td>train</td>\n",
       "    </tr>\n",
       "    <tr>\n",
       "      <th>15</th>\n",
       "      <td>15</td>\n",
       "      <td>/home/malav/Downloads/datasets/fruit_detection...</td>\n",
       "      <td>[494, 1, 1452, 741]</td>\n",
       "      <td>orange</td>\n",
       "      <td>train</td>\n",
       "    </tr>\n",
       "    <tr>\n",
       "      <th>16</th>\n",
       "      <td>16</td>\n",
       "      <td>/home/malav/Downloads/datasets/fruit_detection...</td>\n",
       "      <td>[1, 135, 1181, 601]</td>\n",
       "      <td>banana</td>\n",
       "      <td>train</td>\n",
       "    </tr>\n",
       "    <tr>\n",
       "      <th>17</th>\n",
       "      <td>17</td>\n",
       "      <td>/home/malav/Downloads/datasets/fruit_detection...</td>\n",
       "      <td>[60, 85, 2792, 2568]</td>\n",
       "      <td>banana</td>\n",
       "      <td>train</td>\n",
       "    </tr>\n",
       "    <tr>\n",
       "      <th>18</th>\n",
       "      <td>18</td>\n",
       "      <td>/home/malav/Downloads/datasets/fruit_detection...</td>\n",
       "      <td>[110, 730, 913, 1551]</td>\n",
       "      <td>apple</td>\n",
       "      <td>train</td>\n",
       "    </tr>\n",
       "    <tr>\n",
       "      <th>19</th>\n",
       "      <td>19</td>\n",
       "      <td>/home/malav/Downloads/datasets/fruit_detection...</td>\n",
       "      <td>[467, 341, 777, 657]</td>\n",
       "      <td>orange</td>\n",
       "      <td>train</td>\n",
       "    </tr>\n",
       "    <tr>\n",
       "      <th>20</th>\n",
       "      <td>20</td>\n",
       "      <td>/home/malav/Downloads/datasets/fruit_detection...</td>\n",
       "      <td>[147, 45, 288, 202]</td>\n",
       "      <td>apple</td>\n",
       "      <td>train</td>\n",
       "    </tr>\n",
       "    <tr>\n",
       "      <th>21</th>\n",
       "      <td>21</td>\n",
       "      <td>/home/malav/Downloads/datasets/fruit_detection...</td>\n",
       "      <td>[42, 86, 282, 330]</td>\n",
       "      <td>orange</td>\n",
       "      <td>train</td>\n",
       "    </tr>\n",
       "    <tr>\n",
       "      <th>22</th>\n",
       "      <td>22</td>\n",
       "      <td>/home/malav/Downloads/datasets/fruit_detection...</td>\n",
       "      <td>[43, 21, 350, 353]</td>\n",
       "      <td>apple</td>\n",
       "      <td>train</td>\n",
       "    </tr>\n",
       "    <tr>\n",
       "      <th>23</th>\n",
       "      <td>23</td>\n",
       "      <td>/home/malav/Downloads/datasets/fruit_detection...</td>\n",
       "      <td>[132, 98, 591, 348]</td>\n",
       "      <td>banana</td>\n",
       "      <td>train</td>\n",
       "    </tr>\n",
       "    <tr>\n",
       "      <th>24</th>\n",
       "      <td>24</td>\n",
       "      <td>/home/malav/Downloads/datasets/fruit_detection...</td>\n",
       "      <td>[5, 31, 287, 276]</td>\n",
       "      <td>apple</td>\n",
       "      <td>train</td>\n",
       "    </tr>\n",
       "    <tr>\n",
       "      <th>25</th>\n",
       "      <td>25</td>\n",
       "      <td>/home/malav/Downloads/datasets/fruit_detection...</td>\n",
       "      <td>[4, 159, 86, 247]</td>\n",
       "      <td>orange</td>\n",
       "      <td>train</td>\n",
       "    </tr>\n",
       "    <tr>\n",
       "      <th>26</th>\n",
       "      <td>26</td>\n",
       "      <td>/home/malav/Downloads/datasets/fruit_detection...</td>\n",
       "      <td>[25, 42, 275, 297]</td>\n",
       "      <td>apple</td>\n",
       "      <td>train</td>\n",
       "    </tr>\n",
       "    <tr>\n",
       "      <th>27</th>\n",
       "      <td>27</td>\n",
       "      <td>/home/malav/Downloads/datasets/fruit_detection...</td>\n",
       "      <td>[193, 207, 1700, 983]</td>\n",
       "      <td>banana</td>\n",
       "      <td>train</td>\n",
       "    </tr>\n",
       "    <tr>\n",
       "      <th>28</th>\n",
       "      <td>28</td>\n",
       "      <td>/home/malav/Downloads/datasets/fruit_detection...</td>\n",
       "      <td>[88, 123, 225, 282]</td>\n",
       "      <td>orange</td>\n",
       "      <td>train</td>\n",
       "    </tr>\n",
       "    <tr>\n",
       "      <th>29</th>\n",
       "      <td>29</td>\n",
       "      <td>/home/malav/Downloads/datasets/fruit_detection...</td>\n",
       "      <td>[125, 133, 772, 497]</td>\n",
       "      <td>banana</td>\n",
       "      <td>train</td>\n",
       "    </tr>\n",
       "    <tr>\n",
       "      <th>30</th>\n",
       "      <td>30</td>\n",
       "      <td>/home/malav/Downloads/datasets/fruit_detection...</td>\n",
       "      <td>[27, 72, 521, 319]</td>\n",
       "      <td>banana</td>\n",
       "      <td>train</td>\n",
       "    </tr>\n",
       "    <tr>\n",
       "      <th>31</th>\n",
       "      <td>31</td>\n",
       "      <td>/home/malav/Downloads/datasets/fruit_detection...</td>\n",
       "      <td>[24, 11, 253, 235]</td>\n",
       "      <td>orange</td>\n",
       "      <td>train</td>\n",
       "    </tr>\n",
       "    <tr>\n",
       "      <th>32</th>\n",
       "      <td>32</td>\n",
       "      <td>/home/malav/Downloads/datasets/fruit_detection...</td>\n",
       "      <td>[136, 199, 569, 628]</td>\n",
       "      <td>apple</td>\n",
       "      <td>train</td>\n",
       "    </tr>\n",
       "    <tr>\n",
       "      <th>33</th>\n",
       "      <td>33</td>\n",
       "      <td>/home/malav/Downloads/datasets/fruit_detection...</td>\n",
       "      <td>[96, 107, 580, 397]</td>\n",
       "      <td>banana</td>\n",
       "      <td>train</td>\n",
       "    </tr>\n",
       "    <tr>\n",
       "      <th>34</th>\n",
       "      <td>34</td>\n",
       "      <td>/home/malav/Downloads/datasets/fruit_detection...</td>\n",
       "      <td>[368, 109, 706, 470]</td>\n",
       "      <td>orange</td>\n",
       "      <td>train</td>\n",
       "    </tr>\n",
       "    <tr>\n",
       "      <th>35</th>\n",
       "      <td>35</td>\n",
       "      <td>/home/malav/Downloads/datasets/fruit_detection...</td>\n",
       "      <td>[607, 133, 1030, 540]</td>\n",
       "      <td>orange</td>\n",
       "      <td>train</td>\n",
       "    </tr>\n",
       "    <tr>\n",
       "      <th>36</th>\n",
       "      <td>36</td>\n",
       "      <td>/home/malav/Downloads/datasets/fruit_detection...</td>\n",
       "      <td>[344, 76, 640, 394]</td>\n",
       "      <td>apple</td>\n",
       "      <td>train</td>\n",
       "    </tr>\n",
       "    <tr>\n",
       "      <th>37</th>\n",
       "      <td>37</td>\n",
       "      <td>/home/malav/Downloads/datasets/fruit_detection...</td>\n",
       "      <td>[22, 20, 176, 165]</td>\n",
       "      <td>orange</td>\n",
       "      <td>train</td>\n",
       "    </tr>\n",
       "    <tr>\n",
       "      <th>38</th>\n",
       "      <td>38</td>\n",
       "      <td>/home/malav/Downloads/datasets/fruit_detection...</td>\n",
       "      <td>[64, 101, 466, 190]</td>\n",
       "      <td>banana</td>\n",
       "      <td>train</td>\n",
       "    </tr>\n",
       "    <tr>\n",
       "      <th>39</th>\n",
       "      <td>39</td>\n",
       "      <td>/home/malav/Downloads/datasets/fruit_detection...</td>\n",
       "      <td>[213, 33, 459, 258]</td>\n",
       "      <td>apple</td>\n",
       "      <td>train</td>\n",
       "    </tr>\n",
       "    <tr>\n",
       "      <th>40</th>\n",
       "      <td>40</td>\n",
       "      <td>/home/malav/Downloads/datasets/fruit_detection...</td>\n",
       "      <td>[43, 128, 714, 385]</td>\n",
       "      <td>banana</td>\n",
       "      <td>train</td>\n",
       "    </tr>\n",
       "    <tr>\n",
       "      <th>41</th>\n",
       "      <td>41</td>\n",
       "      <td>/home/malav/Downloads/datasets/fruit_detection...</td>\n",
       "      <td>[556, 178, 950, 559]</td>\n",
       "      <td>orange</td>\n",
       "      <td>train</td>\n",
       "    </tr>\n",
       "    <tr>\n",
       "      <th>42</th>\n",
       "      <td>42</td>\n",
       "      <td>/home/malav/Downloads/datasets/fruit_detection...</td>\n",
       "      <td>[8, 15, 331, 349]</td>\n",
       "      <td>apple</td>\n",
       "      <td>train</td>\n",
       "    </tr>\n",
       "    <tr>\n",
       "      <th>43</th>\n",
       "      <td>43</td>\n",
       "      <td>/home/malav/Downloads/datasets/fruit_detection...</td>\n",
       "      <td>[97, 127, 346, 379]</td>\n",
       "      <td>apple</td>\n",
       "      <td>train</td>\n",
       "    </tr>\n",
       "    <tr>\n",
       "      <th>44</th>\n",
       "      <td>44</td>\n",
       "      <td>/home/malav/Downloads/datasets/fruit_detection...</td>\n",
       "      <td>[204, 154, 624, 596]</td>\n",
       "      <td>apple</td>\n",
       "      <td>train</td>\n",
       "    </tr>\n",
       "    <tr>\n",
       "      <th>45</th>\n",
       "      <td>45</td>\n",
       "      <td>/home/malav/Downloads/datasets/fruit_detection...</td>\n",
       "      <td>[87, 27, 689, 480]</td>\n",
       "      <td>banana</td>\n",
       "      <td>train</td>\n",
       "    </tr>\n",
       "    <tr>\n",
       "      <th>46</th>\n",
       "      <td>46</td>\n",
       "      <td>/home/malav/Downloads/datasets/fruit_detection...</td>\n",
       "      <td>[180, 161, 647, 436]</td>\n",
       "      <td>banana</td>\n",
       "      <td>train</td>\n",
       "    </tr>\n",
       "    <tr>\n",
       "      <th>47</th>\n",
       "      <td>47</td>\n",
       "      <td>/home/malav/Downloads/datasets/fruit_detection...</td>\n",
       "      <td>[234, 132, 416, 343]</td>\n",
       "      <td>apple</td>\n",
       "      <td>train</td>\n",
       "    </tr>\n",
       "    <tr>\n",
       "      <th>48</th>\n",
       "      <td>48</td>\n",
       "      <td>/home/malav/Downloads/datasets/fruit_detection...</td>\n",
       "      <td>[8, 58, 741, 833]</td>\n",
       "      <td>orange</td>\n",
       "      <td>train</td>\n",
       "    </tr>\n",
       "    <tr>\n",
       "      <th>49</th>\n",
       "      <td>49</td>\n",
       "      <td>/home/malav/Downloads/datasets/fruit_detection...</td>\n",
       "      <td>[14, 8, 278, 280]</td>\n",
       "      <td>orange</td>\n",
       "      <td>train</td>\n",
       "    </tr>\n",
       "  </tbody>\n",
       "</table>\n",
       "</div>"
      ],
      "text/plain": [
       "    image_id                                         image_path  \\\n",
       "0          0  /home/malav/Downloads/datasets/fruit_detection...   \n",
       "1          1  /home/malav/Downloads/datasets/fruit_detection...   \n",
       "2          2  /home/malav/Downloads/datasets/fruit_detection...   \n",
       "3          3  /home/malav/Downloads/datasets/fruit_detection...   \n",
       "4          4  /home/malav/Downloads/datasets/fruit_detection...   \n",
       "5          5  /home/malav/Downloads/datasets/fruit_detection...   \n",
       "6          6  /home/malav/Downloads/datasets/fruit_detection...   \n",
       "7          7  /home/malav/Downloads/datasets/fruit_detection...   \n",
       "8          8  /home/malav/Downloads/datasets/fruit_detection...   \n",
       "9          9  /home/malav/Downloads/datasets/fruit_detection...   \n",
       "10        10  /home/malav/Downloads/datasets/fruit_detection...   \n",
       "11        11  /home/malav/Downloads/datasets/fruit_detection...   \n",
       "12        12  /home/malav/Downloads/datasets/fruit_detection...   \n",
       "13        13  /home/malav/Downloads/datasets/fruit_detection...   \n",
       "14        14  /home/malav/Downloads/datasets/fruit_detection...   \n",
       "15        15  /home/malav/Downloads/datasets/fruit_detection...   \n",
       "16        16  /home/malav/Downloads/datasets/fruit_detection...   \n",
       "17        17  /home/malav/Downloads/datasets/fruit_detection...   \n",
       "18        18  /home/malav/Downloads/datasets/fruit_detection...   \n",
       "19        19  /home/malav/Downloads/datasets/fruit_detection...   \n",
       "20        20  /home/malav/Downloads/datasets/fruit_detection...   \n",
       "21        21  /home/malav/Downloads/datasets/fruit_detection...   \n",
       "22        22  /home/malav/Downloads/datasets/fruit_detection...   \n",
       "23        23  /home/malav/Downloads/datasets/fruit_detection...   \n",
       "24        24  /home/malav/Downloads/datasets/fruit_detection...   \n",
       "25        25  /home/malav/Downloads/datasets/fruit_detection...   \n",
       "26        26  /home/malav/Downloads/datasets/fruit_detection...   \n",
       "27        27  /home/malav/Downloads/datasets/fruit_detection...   \n",
       "28        28  /home/malav/Downloads/datasets/fruit_detection...   \n",
       "29        29  /home/malav/Downloads/datasets/fruit_detection...   \n",
       "30        30  /home/malav/Downloads/datasets/fruit_detection...   \n",
       "31        31  /home/malav/Downloads/datasets/fruit_detection...   \n",
       "32        32  /home/malav/Downloads/datasets/fruit_detection...   \n",
       "33        33  /home/malav/Downloads/datasets/fruit_detection...   \n",
       "34        34  /home/malav/Downloads/datasets/fruit_detection...   \n",
       "35        35  /home/malav/Downloads/datasets/fruit_detection...   \n",
       "36        36  /home/malav/Downloads/datasets/fruit_detection...   \n",
       "37        37  /home/malav/Downloads/datasets/fruit_detection...   \n",
       "38        38  /home/malav/Downloads/datasets/fruit_detection...   \n",
       "39        39  /home/malav/Downloads/datasets/fruit_detection...   \n",
       "40        40  /home/malav/Downloads/datasets/fruit_detection...   \n",
       "41        41  /home/malav/Downloads/datasets/fruit_detection...   \n",
       "42        42  /home/malav/Downloads/datasets/fruit_detection...   \n",
       "43        43  /home/malav/Downloads/datasets/fruit_detection...   \n",
       "44        44  /home/malav/Downloads/datasets/fruit_detection...   \n",
       "45        45  /home/malav/Downloads/datasets/fruit_detection...   \n",
       "46        46  /home/malav/Downloads/datasets/fruit_detection...   \n",
       "47        47  /home/malav/Downloads/datasets/fruit_detection...   \n",
       "48        48  /home/malav/Downloads/datasets/fruit_detection...   \n",
       "49        49  /home/malav/Downloads/datasets/fruit_detection...   \n",
       "\n",
       "                     bbox   label image_type  \n",
       "0      [26, 69, 604, 581]  orange      train  \n",
       "1       [29, 1, 834, 214]  banana      train  \n",
       "2      [43, 67, 220, 234]   apple      train  \n",
       "3      [36, 48, 323, 334]   apple      train  \n",
       "4      [21, 27, 319, 315]   apple      train  \n",
       "5     [202, 37, 470, 314]   apple      train  \n",
       "6    [415, 261, 720, 567]   apple      train  \n",
       "7     [54, 156, 534, 360]  banana      train  \n",
       "8      [14, 44, 270, 300]   apple      train  \n",
       "9   [184, 221, 1226, 712]  banana      train  \n",
       "10    [126, 16, 422, 288]  banana      train  \n",
       "11     [12, 54, 342, 386]  orange      train  \n",
       "12   [147, 218, 336, 412]   apple      train  \n",
       "13   [349, 227, 861, 784]   apple      train  \n",
       "14    [291, 55, 588, 342]   apple      train  \n",
       "15    [494, 1, 1452, 741]  orange      train  \n",
       "16    [1, 135, 1181, 601]  banana      train  \n",
       "17   [60, 85, 2792, 2568]  banana      train  \n",
       "18  [110, 730, 913, 1551]   apple      train  \n",
       "19   [467, 341, 777, 657]  orange      train  \n",
       "20    [147, 45, 288, 202]   apple      train  \n",
       "21     [42, 86, 282, 330]  orange      train  \n",
       "22     [43, 21, 350, 353]   apple      train  \n",
       "23    [132, 98, 591, 348]  banana      train  \n",
       "24      [5, 31, 287, 276]   apple      train  \n",
       "25      [4, 159, 86, 247]  orange      train  \n",
       "26     [25, 42, 275, 297]   apple      train  \n",
       "27  [193, 207, 1700, 983]  banana      train  \n",
       "28    [88, 123, 225, 282]  orange      train  \n",
       "29   [125, 133, 772, 497]  banana      train  \n",
       "30     [27, 72, 521, 319]  banana      train  \n",
       "31     [24, 11, 253, 235]  orange      train  \n",
       "32   [136, 199, 569, 628]   apple      train  \n",
       "33    [96, 107, 580, 397]  banana      train  \n",
       "34   [368, 109, 706, 470]  orange      train  \n",
       "35  [607, 133, 1030, 540]  orange      train  \n",
       "36    [344, 76, 640, 394]   apple      train  \n",
       "37     [22, 20, 176, 165]  orange      train  \n",
       "38    [64, 101, 466, 190]  banana      train  \n",
       "39    [213, 33, 459, 258]   apple      train  \n",
       "40    [43, 128, 714, 385]  banana      train  \n",
       "41   [556, 178, 950, 559]  orange      train  \n",
       "42      [8, 15, 331, 349]   apple      train  \n",
       "43    [97, 127, 346, 379]   apple      train  \n",
       "44   [204, 154, 624, 596]   apple      train  \n",
       "45     [87, 27, 689, 480]  banana      train  \n",
       "46   [180, 161, 647, 436]  banana      train  \n",
       "47   [234, 132, 416, 343]   apple      train  \n",
       "48      [8, 58, 741, 833]  orange      train  \n",
       "49      [14, 8, 278, 280]  orange      train  "
      ]
     },
     "execution_count": 12,
     "metadata": {},
     "output_type": "execute_result"
    }
   ],
   "source": [
    "train_dataset._load_data()"
   ]
  },
  {
   "cell_type": "code",
   "execution_count": null,
   "metadata": {},
   "outputs": [],
   "source": []
  },
  {
   "cell_type": "code",
   "execution_count": null,
   "metadata": {},
   "outputs": [],
   "source": []
  },
  {
   "cell_type": "code",
   "execution_count": null,
   "metadata": {},
   "outputs": [],
   "source": []
  },
  {
   "cell_type": "code",
   "execution_count": null,
   "metadata": {},
   "outputs": [
    {
     "name": "stderr",
     "output_type": "stream",
     "text": [
      "50row [00:00, 10877.34row/s]\n",
      "50row [00:00, 36947.71row/s]\n"
     ]
    }
   ],
   "source": [
    "out1,out2,_,_ =k.data_load(logger=logger)"
   ]
  },
  {
   "cell_type": "code",
   "execution_count": 9,
   "metadata": {},
   "outputs": [
    {
     "name": "stderr",
     "output_type": "stream",
     "text": [
      "Wed 22:17:54,369 INF self.trainloader keys = dict_keys(['image'])                                                                    \n",
      "Wed 22:17:54,372 INF self.trainloader shape = torch.Size([4, 3, 28, 28])                                                             \n"
     ]
    }
   ],
   "source": [
    "for i in out1:\n",
    "    if logger:\n",
    "        #logger.info(\"self.trainloader [0] = {}\".format(i['image']))\n",
    "        logger.info(\"self.trainloader keys = {}\".format(i.keys()))\n",
    "        logger.info(\"self.trainloader shape = {}\".format(i['image'].shape))\n",
    "        if 'label' in i.keys():\n",
    "            logger.info(\"self.trainloader label = {}\".format(i['label']))\n",
    "    break"
   ]
  },
  {
   "cell_type": "code",
   "execution_count": 10,
   "metadata": {},
   "outputs": [
    {
     "data": {
      "text/plain": [
       "Compose(\n",
       "    ToTensor()\n",
       "    RandomHorizontalFlip(p=0.5)\n",
       "    RandomRotation(degrees=[-90.0, 90.0], interpolation=nearest, expand=False, fill=0)\n",
       "    ColorJitter(brightness=(0.6, 1.4), contrast=(0.6, 1.4), saturation=(0.6, 1.4), hue=(-0.1, 0.1))\n",
       ")"
      ]
     },
     "execution_count": 10,
     "metadata": {},
     "output_type": "execute_result"
    }
   ],
   "source": [
    "k.transforms_final  #transforms applied to the data"
   ]
  },
  {
   "cell_type": "code",
   "execution_count": 11,
   "metadata": {},
   "outputs": [
    {
     "data": {
      "text/plain": [
       "{'data': {'from_datasets': 'CIFAR10',\n",
       "  'from_file': True,\n",
       "  'work_dir': '/home/malav/mb_pytorch/data/',\n",
       "  'file': '/home/malav/mb_pytorch/data/csv/file_data.csv',\n",
       "  'use_img_dir': True,\n",
       "  'img_dir': '/home/malav/mb_pytorch/data/images1/',\n",
       "  'thresholding_pd': 0},\n",
       " 'train_params': {'batch_size': 4,\n",
       "  'num_workers': 4,\n",
       "  'pin_memory': True,\n",
       "  'shuffle': True,\n",
       "  'seed': 42},\n",
       " 'test_params': {'batch_size': 4,\n",
       "  'num_workers': 4,\n",
       "  'pin_memory': True,\n",
       "  'shuffle': True,\n",
       "  'seed': 42},\n",
       " 'transforms_list': {'transform': True,\n",
       "  'resize': {'val': False, 'args': {'size': [256, 256]}},\n",
       "  'random_crop': {'val': False, 'args': {'size': [224, 224]}},\n",
       "  'random_horizontal_flip': {'val': True, 'args': {'p': 0.5}},\n",
       "  'random_vertical_flip': {'val': False, 'args': {'p': 0.5}},\n",
       "  'random_rotation': {'val': True, 'args': {'degrees': 90}},\n",
       "  'random_grayscale': {'val': False, 'args': {'p': 0.1}},\n",
       "  'random_color_jitter': {'val': True,\n",
       "   'args': {'brightness': 0.4,\n",
       "    'contrast': 0.4,\n",
       "    'saturation': 0.4,\n",
       "    'hue': 0.1}},\n",
       "  'normalize': {'val': False,\n",
       "   'args': {'mean': [0.485, 0.456, 0.406], 'std': [0.229, 0.224, 0.225]}},\n",
       "  'to_tensor': {'val': True}}}"
      ]
     },
     "execution_count": 11,
     "metadata": {},
     "output_type": "execute_result"
    }
   ],
   "source": [
    "k.data_dict #original yaml data"
   ]
  },
  {
   "cell_type": "code",
   "execution_count": 12,
   "metadata": {},
   "outputs": [
    {
     "name": "stdout",
     "output_type": "stream",
     "text": [
      "\u001b[0;31mSignature:\u001b[0m \u001b[0mshow_images\u001b[0m\u001b[0;34m(\u001b[0m\u001b[0mimgs\u001b[0m\u001b[0;34m,\u001b[0m \u001b[0mfigsize\u001b[0m\u001b[0;34m=\u001b[0m\u001b[0;34m(\u001b[0m\u001b[0;36m12.0\u001b[0m\u001b[0;34m,\u001b[0m \u001b[0;36m12.0\u001b[0m\u001b[0;34m)\u001b[0m\u001b[0;34m)\u001b[0m\u001b[0;34m\u001b[0m\u001b[0;34m\u001b[0m\u001b[0m\n",
      "\u001b[0;31mDocstring:\u001b[0m\n",
      "Displays a single image or list of images. \n",
      "Args:\n",
      "    imgs (Union[List[torch.Tensor], torch.Tensor]): A list of images\n",
      "        of shape (3, H, W) or a single image of shape (3, H, W).\n",
      "    figsize (Tuple[float, float]): size of figure to display.\n",
      "Returns:\n",
      "    None\n",
      "\u001b[0;31mFile:\u001b[0m      ~/.local/lib/python3.8/site-packages/mb_pytorch/utils/viewer.py\n",
      "\u001b[0;31mType:\u001b[0m      function\n"
     ]
    }
   ],
   "source": [
    "from mb_pytorch.utils.viewer import show_images\n",
    "show_images?"
   ]
  },
  {
   "cell_type": "code",
   "execution_count": 13,
   "metadata": {},
   "outputs": [
    {
     "name": "stdout",
     "output_type": "stream",
     "text": [
      "torch.Size([4, 3, 28, 28])\n"
     ]
    },
    {
     "data": {
      "image/png": "[encoded data removed]",
      "text/plain": [
       "<Figure size 864x864 with 4 Axes>"
      ]
     },
     "metadata": {},
     "output_type": "display_data"
    }
   ],
   "source": [
    "# training show_images\n",
    "for i in out1:\n",
    "    print(i['image'].shape)\n",
    "    i_list = i['image'].tolist()\n",
    "    show_images(i_list)\n",
    "    break"
   ]
  },
  {
   "cell_type": "code",
   "execution_count": 14,
   "metadata": {},
   "outputs": [
    {
     "name": "stdout",
     "output_type": "stream",
     "text": [
      "torch.Size([4, 3, 28, 28])\n"
     ]
    },
    {
     "data": {
      "image/png": "[encoded data removed]",
      "text/plain": [
       "<Figure size 864x864 with 4 Axes>"
      ]
     },
     "metadata": {},
     "output_type": "display_data"
    }
   ],
   "source": [
    "# testing show_images\n",
    "for i in out2:   \n",
    "    print(i['image'].shape)\n",
    "    i_list = i['image'].tolist()\n",
    "    show_images(i_list)\n",
    "    break"
   ]
  },
  {
   "cell_type": "code",
   "execution_count": null,
   "metadata": {},
   "outputs": [],
   "source": []
  },
  {
   "cell_type": "code",
   "execution_count": null,
   "metadata": {},
   "outputs": [],
   "source": []
  },
  {
   "cell_type": "code",
   "execution_count": 15,
   "metadata": {},
   "outputs": [
    {
     "name": "stdout",
     "output_type": "stream",
     "text": [
      "Files already downloaded and verified\n",
      "Files already downloaded and verified\n"
     ]
    }
   ],
   "source": [
    "#With CIFAR10 dataset\n",
    "\n",
    "k =DataLoader('../scripts/extra_utils/loader_y.yaml') #load the data\n",
    "out1,out2,o1,o2 =k.data_load(logger=logger)"
   ]
  },
  {
   "cell_type": "code",
   "execution_count": 16,
   "metadata": {},
   "outputs": [
    {
     "data": {
      "text/plain": [
       "Compose(\n",
       "    ToTensor()\n",
       "    Normalize(mean=[0.485, 0.456, 0.406], std=[0.229, 0.224, 0.225])\n",
       "    RandomHorizontalFlip(p=0.5)\n",
       "    RandomRotation(degrees=[-90.0, 90.0], interpolation=nearest, expand=False, fill=0)\n",
       "    ColorJitter(brightness=(0.6, 1.4), contrast=(0.6, 1.4), saturation=(0.6, 1.4), hue=(-0.1, 0.1))\n",
       ")"
      ]
     },
     "execution_count": 16,
     "metadata": {},
     "output_type": "execute_result"
    }
   ],
   "source": [
    "k.get_transforms"
   ]
  },
  {
   "cell_type": "code",
   "execution_count": 17,
   "metadata": {},
   "outputs": [
    {
     "data": {
      "text/plain": [
       "{'data': {'from_datasets': 'CIFAR10',\n",
       "  'from_file': False,\n",
       "  'work_dir': '/home/malav/mb_pytorch/data/',\n",
       "  'file': '/home/malav/mb_pytorch/data/csv/file_data.csv',\n",
       "  'use_img_dir': True,\n",
       "  'img_dir': '/home/malav/mb_pytorch/data/images1/',\n",
       "  'thresholding_pd': 0},\n",
       " 'train_params': {'batch_size': 4,\n",
       "  'num_workers': 4,\n",
       "  'pin_memory': True,\n",
       "  'shuffle': True,\n",
       "  'seed': 42},\n",
       " 'test_params': {'batch_size': 4,\n",
       "  'num_workers': 4,\n",
       "  'pin_memory': True,\n",
       "  'shuffle': True,\n",
       "  'seed': 42},\n",
       " 'transforms_list': {'transform': True,\n",
       "  'resize': {'val': False, 'args': {'size': [256, 256]}},\n",
       "  'random_crop': {'val': False, 'args': {'size': [224, 224]}},\n",
       "  'random_horizontal_flip': {'val': True, 'args': {'p': 0.5}},\n",
       "  'random_vertical_flip': {'val': False, 'args': {'p': 0.5}},\n",
       "  'random_rotation': {'val': True, 'args': {'degrees': 90}},\n",
       "  'random_grayscale': {'val': False, 'args': {'p': 0.1}},\n",
       "  'random_color_jitter': {'val': True,\n",
       "   'args': {'brightness': 0.4,\n",
       "    'contrast': 0.4,\n",
       "    'saturation': 0.4,\n",
       "    'hue': 0.1}},\n",
       "  'normalize': {'val': True,\n",
       "   'args': {'mean': [0.485, 0.456, 0.406], 'std': [0.229, 0.224, 0.225]}},\n",
       "  'to_tensor': {'val': True}}}"
      ]
     },
     "execution_count": 17,
     "metadata": {},
     "output_type": "execute_result"
    }
   ],
   "source": [
    "k.data_dict"
   ]
  },
  {
   "cell_type": "code",
   "execution_count": 18,
   "metadata": {},
   "outputs": [
    {
     "data": {
      "text/plain": [
       "Dataset CIFAR10\n",
       "    Number of datapoints: 50000\n",
       "    Root location: /home/malav/mb_pytorch/data/\n",
       "    Split: Train\n",
       "    StandardTransform\n",
       "Transform: Compose(\n",
       "               ToTensor()\n",
       "               Normalize(mean=[0.485, 0.456, 0.406], std=[0.229, 0.224, 0.225])\n",
       "               RandomHorizontalFlip(p=0.5)\n",
       "               RandomRotation(degrees=[-90.0, 90.0], interpolation=nearest, expand=False, fill=0)\n",
       "               ColorJitter(brightness=(0.6, 1.4), contrast=(0.6, 1.4), saturation=(0.6, 1.4), hue=(-0.1, 0.1))\n",
       "           )"
      ]
     },
     "execution_count": 18,
     "metadata": {},
     "output_type": "execute_result"
    }
   ],
   "source": [
    "o1"
   ]
  },
  {
   "cell_type": "code",
   "execution_count": 19,
   "metadata": {},
   "outputs": [],
   "source": [
    "from mb_pytorch.utils.viewer import show_label_on_img"
   ]
  },
  {
   "cell_type": "code",
   "execution_count": 20,
   "metadata": {},
   "outputs": [
    {
     "name": "stdout",
     "output_type": "stream",
     "text": [
      "torch.Size([4, 3, 32, 32])\n",
      "torch.Size([4])\n",
      "[9, 6, 8, 1]\n"
     ]
    },
    {
     "name": "stderr",
     "output_type": "stream",
     "text": [
      "Clipping input data to the valid range for imshow with RGB data ([0..1] for floats or [0..255] for integers).\n",
      "Clipping input data to the valid range for imshow with RGB data ([0..1] for floats or [0..255] for integers).\n",
      "Clipping input data to the valid range for imshow with RGB data ([0..1] for floats or [0..255] for integers).\n",
      "Clipping input data to the valid range for imshow with RGB data ([0..1] for floats or [0..255] for integers).\n"
     ]
    },
    {
     "data": {
      "image/png": "[encoded data removed]",
      "text/plain": [
       "<Figure size 864x864 with 4 Axes>"
      ]
     },
     "metadata": {
      "needs_background": "light"
     },
     "output_type": "display_data"
    }
   ],
   "source": [
    "for i,(i_i,i_l) in enumerate(out1):   \n",
    "    print(i_i.shape)\n",
    "    print(i_l.shape)\n",
    "    i_list = i_i.tolist()\n",
    "    i_label = i_l.tolist()\n",
    "    print(i_label)\n",
    "    show_label_on_img(i_list,i_label)\n",
    "    break"
   ]
  },
  {
   "cell_type": "code",
   "execution_count": null,
   "metadata": {},
   "outputs": [],
   "source": []
  }
 ],
 "metadata": {
  "kernelspec": {
   "display_name": "Python 3",
   "language": "python",
   "name": "python3"
  },
  "language_info": {
   "codemirror_mode": {
    "name": "ipython",
    "version": 3
   },
   "file_extension": ".py",
   "mimetype": "text/x-python",
   "name": "python",
   "nbconvert_exporter": "python",
   "pygments_lexer": "ipython3",
   "version": "3.11.6"
  },
  "orig_nbformat": 4,
  "vscode": {
   "interpreter": {
    "hash": "31f2aee4e71d21fbe5cf8b01ff0e069b9275f58929596ceb00d14d90e3e16cd6"
   }
  }
 },
 "nbformat": 4,
 "nbformat_minor": 2
}
