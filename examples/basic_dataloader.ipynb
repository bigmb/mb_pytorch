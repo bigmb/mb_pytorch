{
 "cells": [
  {
   "cell_type": "code",
   "execution_count": 1,
   "metadata": {},
   "outputs": [],
   "source": [
    "#Dataloader example"
   ]
  },
  {
   "cell_type": "code",
   "execution_count": 2,
   "metadata": {},
   "outputs": [],
   "source": [
    "# some packages need async support in jupyter\n",
    "import nest_asyncio\n",
    "nest_asyncio.apply()"
   ]
  },
  {
   "cell_type": "code",
   "execution_count": 3,
   "metadata": {},
   "outputs": [],
   "source": [
    "from mb_utils.src.logging import logger\n",
    "from mb_pytorch.dataloader.loader import DataLoader"
   ]
  },
  {
   "cell_type": "code",
   "execution_count": 4,
   "metadata": {},
   "outputs": [],
   "source": [
    "k =DataLoader('../scripts/loader_y.yaml') #load the data"
   ]
  },
  {
   "cell_type": "code",
   "execution_count": 5,
   "metadata": {},
   "outputs": [
    {
     "name": "stderr",
     "output_type": "stream",
     "text": [
      "50row [00:00, 17044.47row/s]\n",
      "50row [00:00, 34044.68row/s]\n"
     ]
    }
   ],
   "source": [
    "out1,out2,_,_ =k.data_load(logger=logger)"
   ]
  },
  {
   "cell_type": "code",
   "execution_count": 6,
   "metadata": {},
   "outputs": [
    {
     "name": "stderr",
     "output_type": "stream",
     "text": [
      "Wed 04:51:49,034 INF self.trainloader keys = dict_keys(['image'])                                                                    \n",
      "Wed 04:51:49,038 INF self.trainloader shape = torch.Size([4, 3, 28, 28])                                                             \n"
     ]
    }
   ],
   "source": [
    "for i in out1:\n",
    "    if logger:\n",
    "        #logger.info(\"self.trainloader [0] = {}\".format(i['image']))\n",
    "        logger.info(\"self.trainloader keys = {}\".format(i.keys()))\n",
    "        logger.info(\"self.trainloader shape = {}\".format(i['image'].shape))\n",
    "        if 'label' in i.keys():\n",
    "            logger.info(\"self.trainloader label = {}\".format(i['label']))\n",
    "    break"
   ]
  },
  {
   "cell_type": "code",
   "execution_count": 7,
   "metadata": {},
   "outputs": [
    {
     "data": {
      "text/plain": [
       "Compose(\n",
       "    ToTensor()\n",
       "    RandomHorizontalFlip(p=0.5)\n",
       "    RandomRotation(degrees=[-90.0, 90.0], interpolation=nearest, expand=False, fill=0)\n",
       "    ColorJitter(brightness=(0.6, 1.4), contrast=(0.6, 1.4), saturation=(0.6, 1.4), hue=(-0.1, 0.1))\n",
       ")"
      ]
     },
     "execution_count": 7,
     "metadata": {},
     "output_type": "execute_result"
    }
   ],
   "source": [
    "k.transforms_final  #transforms applied to the data"
   ]
  },
  {
   "cell_type": "code",
   "execution_count": 8,
   "metadata": {},
   "outputs": [
    {
     "data": {
      "text/plain": [
       "{'data': {'from_datasets': 'CIFAR10',\n",
       "  'from_file': True,\n",
       "  'work_dir': '/home/malav/mb_pytorch/data/',\n",
       "  'file': '/home/malav/mb_pytorch/data/csv/file_data.csv',\n",
       "  'use_img_dir': True,\n",
       "  'img_dir': '/home/malav/mb_pytorch/data/images1/',\n",
       "  'thresholding_pd': 0},\n",
       " 'train_params': {'batch_size': 4,\n",
       "  'num_workers': 4,\n",
       "  'pin_memory': True,\n",
       "  'shuffle': True},\n",
       " 'test_params': {'batch_size': 4,\n",
       "  'num_workers': 4,\n",
       "  'pin_memory': True,\n",
       "  'shuffle': True},\n",
       " 'transforms_list': {'transform': True,\n",
       "  'resize': {'val': False, 'args': {'size': [256, 256]}},\n",
       "  'random_crop': {'val': False, 'args': {'size': [224, 224]}},\n",
       "  'random_horizontal_flip': {'val': True, 'args': {'p': 0.5}},\n",
       "  'random_vertical_flip': {'val': False, 'args': {'p': 0.5}},\n",
       "  'random_rotation': {'val': True, 'args': {'degrees': 90}},\n",
       "  'random_grayscale': {'val': False, 'args': {'p': 0.1}},\n",
       "  'random_color_jitter': {'val': True,\n",
       "   'args': {'brightness': 0.4,\n",
       "    'contrast': 0.4,\n",
       "    'saturation': 0.4,\n",
       "    'hue': 0.1}},\n",
       "  'normalize': {'val': False,\n",
       "   'args': {'mean': [0.485, 0.456, 0.406], 'std': [0.229, 0.224, 0.225]}},\n",
       "  'to_tensor': {'val': True}}}"
      ]
     },
     "execution_count": 8,
     "metadata": {},
     "output_type": "execute_result"
    }
   ],
   "source": [
    "k.data_dict #original yaml data"
   ]
  },
  {
   "cell_type": "code",
   "execution_count": 9,
   "metadata": {},
   "outputs": [
    {
     "name": "stdout",
     "output_type": "stream",
     "text": [
      "\u001b[0;31mSignature:\u001b[0m \u001b[0mshow_images\u001b[0m\u001b[0;34m(\u001b[0m\u001b[0mimgs\u001b[0m\u001b[0;34m,\u001b[0m \u001b[0mfigsize\u001b[0m\u001b[0;34m=\u001b[0m\u001b[0;34m(\u001b[0m\u001b[0;36m10.0\u001b[0m\u001b[0;34m,\u001b[0m \u001b[0;36m10.0\u001b[0m\u001b[0;34m)\u001b[0m\u001b[0;34m)\u001b[0m\u001b[0;34m\u001b[0m\u001b[0;34m\u001b[0m\u001b[0m\n",
      "\u001b[0;31mDocstring:\u001b[0m\n",
      "Displays a single image or list of images. \n",
      "Args:\n",
      "    imgs (Union[List[torch.Tensor], torch.Tensor]): A list of images\n",
      "        of shape (3, H, W) or a single image of shape (3, H, W).\n",
      "    figsize (Tuple[float, float]): size of figure to display.\n",
      "Returns:\n",
      "    None\n",
      "\u001b[0;31mFile:\u001b[0m      ~/.local/lib/python3.8/site-packages/mb_pytorch/utils/viewer.py\n",
      "\u001b[0;31mType:\u001b[0m      function\n"
     ]
    }
   ],
   "source": [
    "from mb_pytorch.utils.viewer import show_images\n",
    "show_images?"
   ]
  },
  {
   "cell_type": "code",
   "execution_count": 10,
   "metadata": {},
   "outputs": [
    {
     "name": "stdout",
     "output_type": "stream",
     "text": [
      "torch.Size([4, 3, 28, 28])\n"
     ]
    },
    {
     "data": {
      "image/png": "[encoded data removed]",
      "text/plain": [
       "<Figure size 720x720 with 4 Axes>"
      ]
     },
     "metadata": {},
     "output_type": "display_data"
    }
   ],
   "source": [
    "# training show_images\n",
    "for i in out1:\n",
    "    print(i['image'].shape)\n",
    "    i_list = i['image'].tolist()\n",
    "    show_images(i_list)\n",
    "    break"
   ]
  },
  {
   "cell_type": "code",
   "execution_count": 11,
   "metadata": {},
   "outputs": [
    {
     "name": "stdout",
     "output_type": "stream",
     "text": [
      "torch.Size([4, 3, 28, 28])\n"
     ]
    },
    {
     "data": {
      "image/png": "[encoded data removed]",
      "text/plain": [
       "<Figure size 720x720 with 4 Axes>"
      ]
     },
     "metadata": {},
     "output_type": "display_data"
    }
   ],
   "source": [
    "# testing show_images\n",
    "for i in out2:   \n",
    "    print(i['image'].shape)\n",
    "    i_list = i['image'].tolist()\n",
    "    show_images(i_list)\n",
    "    break"
   ]
  },
  {
   "cell_type": "code",
   "execution_count": null,
   "metadata": {},
   "outputs": [],
   "source": []
  },
  {
   "cell_type": "code",
   "execution_count": null,
   "metadata": {},
   "outputs": [],
   "source": []
  },
  {
   "cell_type": "code",
   "execution_count": 12,
   "metadata": {},
   "outputs": [
    {
     "name": "stdout",
     "output_type": "stream",
     "text": [
      "Files already downloaded and verified\n",
      "Files already downloaded and verified\n"
     ]
    }
   ],
   "source": [
    "#With CIFAR10 dataset\n",
    "\n",
    "k =DataLoader('../scripts/extra_utils/loader_y.yaml') #load the data\n",
    "out1,out2,o1,o2 =k.data_load(logger=logger)"
   ]
  },
  {
   "cell_type": "code",
   "execution_count": 13,
   "metadata": {},
   "outputs": [
    {
     "data": {
      "text/plain": [
       "Compose(\n",
       "    ToTensor()\n",
       "    RandomHorizontalFlip(p=0.5)\n",
       "    RandomRotation(degrees=[-90.0, 90.0], interpolation=nearest, expand=False, fill=0)\n",
       "    ColorJitter(brightness=(0.6, 1.4), contrast=(0.6, 1.4), saturation=(0.6, 1.4), hue=(-0.1, 0.1))\n",
       ")"
      ]
     },
     "execution_count": 13,
     "metadata": {},
     "output_type": "execute_result"
    }
   ],
   "source": [
    "k.get_transforms"
   ]
  },
  {
   "cell_type": "code",
   "execution_count": 14,
   "metadata": {},
   "outputs": [
    {
     "data": {
      "text/plain": [
       "{'data': {'from_datasets': 'CIFAR10',\n",
       "  'from_file': False,\n",
       "  'work_dir': '/home/malav/mb_pytorch/data/',\n",
       "  'file': '/home/malav/mb_pytorch/data/csv/file_data.csv',\n",
       "  'use_img_dir': True,\n",
       "  'img_dir': '/home/malav/mb_pytorch/data/images1/',\n",
       "  'thresholding_pd': 0},\n",
       " 'train_params': {'batch_size': 4,\n",
       "  'num_workers': 4,\n",
       "  'pin_memory': True,\n",
       "  'shuffle': True},\n",
       " 'test_params': {'batch_size': 4,\n",
       "  'num_workers': 4,\n",
       "  'pin_memory': True,\n",
       "  'shuffle': True},\n",
       " 'transforms_list': {'transform': True,\n",
       "  'resize': {'val': False, 'args': {'size': [256, 256]}},\n",
       "  'random_crop': {'val': False, 'args': {'size': [224, 224]}},\n",
       "  'random_horizontal_flip': {'val': True, 'args': {'p': 0.5}},\n",
       "  'random_vertical_flip': {'val': False, 'args': {'p': 0.5}},\n",
       "  'random_rotation': {'val': True, 'args': {'degrees': 90}},\n",
       "  'random_grayscale': {'val': False, 'args': {'p': 0.1}},\n",
       "  'random_color_jitter': {'val': True,\n",
       "   'args': {'brightness': 0.4,\n",
       "    'contrast': 0.4,\n",
       "    'saturation': 0.4,\n",
       "    'hue': 0.1}},\n",
       "  'normalize': {'val': False,\n",
       "   'args': {'mean': [0.485, 0.456, 0.406], 'std': [0.229, 0.224, 0.225]}},\n",
       "  'to_tensor': {'val': True}}}"
      ]
     },
     "execution_count": 14,
     "metadata": {},
     "output_type": "execute_result"
    }
   ],
   "source": [
    "k.data_dict"
   ]
  },
  {
   "cell_type": "code",
   "execution_count": 15,
   "metadata": {},
   "outputs": [
    {
     "data": {
      "text/plain": [
       "Dataset CIFAR10\n",
       "    Number of datapoints: 50000\n",
       "    Root location: /home/malav/mb_pytorch/data/\n",
       "    Split: Train\n",
       "    StandardTransform\n",
       "Transform: Compose(\n",
       "               ToTensor()\n",
       "               RandomHorizontalFlip(p=0.5)\n",
       "               RandomRotation(degrees=[-90.0, 90.0], interpolation=nearest, expand=False, fill=0)\n",
       "               ColorJitter(brightness=(0.6, 1.4), contrast=(0.6, 1.4), saturation=(0.6, 1.4), hue=(-0.1, 0.1))\n",
       "           )"
      ]
     },
     "execution_count": 15,
     "metadata": {},
     "output_type": "execute_result"
    }
   ],
   "source": [
    "o1"
   ]
  },
  {
   "cell_type": "code",
   "execution_count": 24,
   "metadata": {},
   "outputs": [
    {
     "name": "stdout",
     "output_type": "stream",
     "text": [
      "torch.Size([4, 3, 32, 32])\n"
     ]
    },
    {
     "data": {
      "image/png": "[encoded data removed]",
      "text/plain": [
       "<Figure size 720x720 with 4 Axes>"
      ]
     },
     "metadata": {},
     "output_type": "display_data"
    }
   ],
   "source": [
    "for i,(i_i,i_l) in enumerate(out1):   \n",
    "    print(i_i.shape)\n",
    "    i_list = i_i.tolist()\n",
    "    show_images(i_list)\n",
    "    break"
   ]
  },
  {
   "cell_type": "code",
   "execution_count": null,
   "metadata": {},
   "outputs": [],
   "source": []
  }
 ],
 "metadata": {
  "kernelspec": {
   "display_name": "Python 3",
   "language": "python",
   "name": "python3"
  },
  "language_info": {
   "codemirror_mode": {
    "name": "ipython",
    "version": 3
   },
   "file_extension": ".py",
   "mimetype": "text/x-python",
   "name": "python",
   "nbconvert_exporter": "python",
   "pygments_lexer": "ipython3",
   "version": "3.8.10"
  },
  "orig_nbformat": 4,
  "vscode": {
   "interpreter": {
    "hash": "31f2aee4e71d21fbe5cf8b01ff0e069b9275f58929596ceb00d14d90e3e16cd6"
   }
  }
 },
 "nbformat": 4,
 "nbformat_minor": 2
}
