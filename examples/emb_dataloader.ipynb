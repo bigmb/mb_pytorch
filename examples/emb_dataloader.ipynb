{
 "cells": [
  {
   "cell_type": "code",
   "execution_count": 1,
   "metadata": {},
   "outputs": [],
   "source": [
    "#Embedding generation using emb_dataloader which checks the path and verifies the file type and images"
   ]
  },
  {
   "cell_type": "code",
   "execution_count": 2,
   "metadata": {},
   "outputs": [],
   "source": [
    "# some packages need async support in jupyter\n",
    "import nest_asyncio\n",
    "nest_asyncio.apply()"
   ]
  },
  {
   "cell_type": "code",
   "execution_count": 3,
   "metadata": {},
   "outputs": [],
   "source": [
    "from mb_pytorch.utils.generate_emb import EmbeddingGenerator\n",
    "from mb_utils.src.logging import logger"
   ]
  },
  {
   "cell_type": "code",
   "execution_count": 7,
   "metadata": {},
   "outputs": [
    {
     "name": "stderr",
     "output_type": "stream",
     "text": [
      "Tue 15:58:15,802 INF Read data from yaml file: [{'data': {'from_datasets': 'CIFAR10', 'from_file': True, 'work_dir': '/home/winnow/mb\n"
     ]
    },
    {
     "ename": "KeyError",
     "evalue": "'model'",
     "output_type": "error",
     "traceback": [
      "\u001b[0;31m---------------------------------------------------------------------------\u001b[0m",
      "\u001b[0;31mKeyError\u001b[0m                                  Traceback (most recent call last)",
      "Cell \u001b[0;32mIn[7], line 1\u001b[0m\n\u001b[0;32m----> 1\u001b[0m emb \u001b[38;5;241m=\u001b[39m \u001b[43mEmbeddingGenerator\u001b[49m\u001b[43m(\u001b[49m\u001b[38;5;124;43m'\u001b[39;49m\u001b[38;5;124;43m../scripts/embeddings/gen_emb_all.yaml\u001b[39;49m\u001b[38;5;124;43m'\u001b[39;49m\u001b[43m,\u001b[49m\u001b[43m \u001b[49m\u001b[43mlogger\u001b[49m\u001b[38;5;241;43m=\u001b[39;49m\u001b[43mlogger\u001b[49m\u001b[43m)\u001b[49m\n",
      "File \u001b[0;32m~/.local/lib/python3.10/site-packages/mb_pytorch/utils/generate_emb.py:84\u001b[0m, in \u001b[0;36mEmbeddingGenerator.__init__\u001b[0;34m(self, yaml, logger)\u001b[0m\n\u001b[1;32m     83\u001b[0m \u001b[38;5;28;01mdef\u001b[39;00m \u001b[38;5;21m__init__\u001b[39m(\u001b[38;5;28mself\u001b[39m, yaml, logger\u001b[38;5;241m=\u001b[39m\u001b[38;5;28;01mNone\u001b[39;00m) \u001b[38;5;241m-\u001b[39m\u001b[38;5;241m>\u001b[39m \u001b[38;5;28;01mNone\u001b[39;00m:\n\u001b[0;32m---> 84\u001b[0m     \u001b[38;5;28;43msuper\u001b[39;49m\u001b[43m(\u001b[49m\u001b[43m)\u001b[49m\u001b[38;5;241;43m.\u001b[39;49m\u001b[38;5;21;43m__init__\u001b[39;49m\u001b[43m(\u001b[49m\u001b[43myaml\u001b[49m\u001b[43m,\u001b[49m\u001b[43mlogger\u001b[49m\u001b[38;5;241;43m=\u001b[39;49m\u001b[43mlogger\u001b[49m\u001b[43m)\u001b[49m\n\u001b[1;32m     86\u001b[0m     \u001b[38;5;28mself\u001b[39m\u001b[38;5;241m.\u001b[39m_data \u001b[38;5;241m=\u001b[39m \u001b[38;5;28mself\u001b[39m\u001b[38;5;241m.\u001b[39mload_data_all\n\u001b[1;32m     87\u001b[0m     \u001b[38;5;28mself\u001b[39m\u001b[38;5;241m.\u001b[39mdevice \u001b[38;5;241m=\u001b[39m torch\u001b[38;5;241m.\u001b[39mdevice(\u001b[38;5;124m\"\u001b[39m\u001b[38;5;124mcuda\u001b[39m\u001b[38;5;124m\"\u001b[39m \u001b[38;5;28;01mif\u001b[39;00m torch\u001b[38;5;241m.\u001b[39mcuda\u001b[38;5;241m.\u001b[39mis_available() \u001b[38;5;28;01melse\u001b[39;00m \u001b[38;5;124m\"\u001b[39m\u001b[38;5;124mcpu\u001b[39m\u001b[38;5;124m\"\u001b[39m)\n",
      "File \u001b[0;32m~/.local/lib/python3.10/site-packages/mb_pytorch/dataloader/loader.py:219\u001b[0m, in \u001b[0;36mDataLoader.__init__\u001b[0;34m(self, yaml, logger)\u001b[0m\n\u001b[1;32m    217\u001b[0m \u001b[38;5;28mself\u001b[39m\u001b[38;5;241m.\u001b[39mlogger \u001b[38;5;241m=\u001b[39m logger\n\u001b[1;32m    218\u001b[0m \u001b[38;5;28mself\u001b[39m\u001b[38;5;241m.\u001b[39m_yaml_data \u001b[38;5;241m=\u001b[39m \u001b[38;5;28;01mNone\u001b[39;00m\n\u001b[0;32m--> 219\u001b[0m \u001b[38;5;28mself\u001b[39m\u001b[38;5;241m.\u001b[39mdata_dict \u001b[38;5;241m=\u001b[39m \u001b[38;5;28;43mself\u001b[39;49m\u001b[38;5;241;43m.\u001b[39;49m\u001b[43mload_data_params\u001b[49m\n\u001b[1;32m    220\u001b[0m \u001b[38;5;28mself\u001b[39m\u001b[38;5;241m.\u001b[39mtransforms_final\u001b[38;5;241m=\u001b[39m[]\n\u001b[1;32m    221\u001b[0m \u001b[38;5;28mself\u001b[39m\u001b[38;5;241m.\u001b[39mtrainloader \u001b[38;5;241m=\u001b[39m \u001b[38;5;28;01mNone\u001b[39;00m\n",
      "File \u001b[0;32m~/.local/lib/python3.10/site-packages/mb_pytorch/dataloader/loader.py:55\u001b[0m, in \u001b[0;36mdata_fetcher.load_data_params\u001b[0;34m(self)\u001b[0m\n\u001b[1;32m     53\u001b[0m \u001b[38;5;28mself\u001b[39m\u001b[38;5;241m.\u001b[39mdata_dict[\u001b[38;5;124m'\u001b[39m\u001b[38;5;124mtest_params\u001b[39m\u001b[38;5;124m'\u001b[39m] \u001b[38;5;241m=\u001b[39m data[\u001b[38;5;124m'\u001b[39m\u001b[38;5;124mtest_params\u001b[39m\u001b[38;5;124m'\u001b[39m]\n\u001b[1;32m     54\u001b[0m \u001b[38;5;28mself\u001b[39m\u001b[38;5;241m.\u001b[39mdata_dict[\u001b[38;5;124m'\u001b[39m\u001b[38;5;124mtransforms_list\u001b[39m\u001b[38;5;124m'\u001b[39m] \u001b[38;5;241m=\u001b[39m data[\u001b[38;5;124m'\u001b[39m\u001b[38;5;124mtransformation\u001b[39m\u001b[38;5;124m'\u001b[39m]\n\u001b[0;32m---> 55\u001b[0m \u001b[38;5;28mself\u001b[39m\u001b[38;5;241m.\u001b[39mdata_dict[\u001b[38;5;124m'\u001b[39m\u001b[38;5;124mmodel\u001b[39m\u001b[38;5;124m'\u001b[39m] \u001b[38;5;241m=\u001b[39m \u001b[43mdata\u001b[49m\u001b[43m[\u001b[49m\u001b[38;5;124;43m'\u001b[39;49m\u001b[38;5;124;43mmodel\u001b[39;49m\u001b[38;5;124;43m'\u001b[39;49m\u001b[43m]\u001b[49m\n\u001b[1;32m     56\u001b[0m \u001b[38;5;28;01mreturn\u001b[39;00m \u001b[38;5;28mself\u001b[39m\u001b[38;5;241m.\u001b[39mdata_dict\n",
      "\u001b[0;31mKeyError\u001b[0m: 'model'"
     ]
    }
   ],
   "source": [
    "emb = EmbeddingGenerator('../scripts/embeddings/gen_emb_all.yaml', logger=logger)"
   ]
  },
  {
   "cell_type": "code",
   "execution_count": 8,
   "metadata": {},
   "outputs": [
    {
     "name": "stderr",
     "output_type": "stream",
     "text": [
      "Wed 05:35:31,265 INF Read data from yaml file: [{'data': {'from_datasets': 'CIFAR10', 'from_file': True, 'work_dir': '/home/malav/mb_\n",
      "Wed 05:35:31,267 INF transforms: [ToTensor(), RandomHorizontalFlip(p=0.5), RandomRotation(degrees=[-90.0, 90.0], interpolation=neares\n",
      "50row [00:00, 11199.74row/s]\n",
      "Wed 05:35:31,278 INF Loaded dataframe from /home/malav/mb_pytorch/data/csv/file_data.csv using asyncio                               \n",
      "Wed 05:35:31,282 INF Data file: {'from_datasets': 'CIFAR10', 'from_file': True, 'work_dir': '/home/malav/mb_pytorch/data/', 'file': '\n",
      "Wed 05:35:31,284 INF Data columns: Index(['image_path', 'image_type'], dtype='object')                                               \n",
      "Wed 05:35:31,287 INF Data will be split into train and validation according to train_file input : False                              \n",
      "Wed 05:35:31,289 INF If unnamed columns are present, they will be removed.                                                           \n",
      "Wed 05:35:31,291 INF If duplicate rows are present, they will be removed.                                                            \n",
      "Wed 05:35:31,293 INF Checking duplicates for the columns: ['image_path']                                                             \n",
      "Wed 05:35:31,297 INF No duplicates found                                                                                             \n",
      "Wed 05:35:31,298 INF Removing unnamed columns                                                                                        \n",
      "Wed 05:35:31,301 INF Columns : Index(['image_path', 'image_type'], dtype='object')                                                   \n",
      "Wed 05:35:31,305 INF Verifying paths                                                                                                 \n",
      "Wed 05:35:31,307 INF first path : /home/malav/mb_pytorch/data/images1/img_0.jpg                                                      \n",
      "Wed 05:35:31,388 INF self.data:     image_path  image_type                                  image_path_new  \\\n",
      "0    img_1.jpg    train\n",
      "Wed 05:35:31,390 INF Length of data after removing invalid paths: 49                                                                 \n",
      "Wed 05:35:31,392 INF Verifying images                                                                                                \n"
     ]
    }
   ],
   "source": [
    "emb_loader = emb.data_emb_loader(logger=logger)\n"
   ]
  },
  {
   "cell_type": "code",
   "execution_count": 9,
   "metadata": {},
   "outputs": [
    {
     "name": "stderr",
     "output_type": "stream",
     "text": [
      "/home/malav/.local/lib/python3.8/site-packages/torchvision/models/_utils.py:208: UserWarning: The parameter 'pretrained' is deprecated since 0.13 and may be removed in the future, please use 'weights' instead.\n",
      "  warnings.warn(\n",
      "/home/malav/.local/lib/python3.8/site-packages/torchvision/models/_utils.py:223: UserWarning: Arguments other than a weight enum or `None` for 'weights' are deprecated since 0.13 and may be removed in the future. The current behavior is equivalent to passing `weights=ResNet18_Weights.IMAGENET1K_V1`. You can also use `weights=ResNet18_Weights.DEFAULT` to get the most up-to-date weights.\n",
      "  warnings.warn(msg)\n",
      "Wed 05:35:40,684 INF Model set to resnet18                                                                                           \n",
      "Wed 05:35:40,695 INF Embedding generation started                                                                                    \n",
      "Wed 05:35:40,698 INF length of data: 13                                                                                              \n"
     ]
    },
    {
     "data": {
      "application/vnd.jupyter.widget-view+json": {
       "model_id": "e05fec40aad8424a81e1985da1b0d68b",
       "version_major": 2,
       "version_minor": 0
      },
      "text/plain": [
       "  0%|          | 0/13 [00:00<?, ?it/s]"
      ]
     },
     "metadata": {},
     "output_type": "display_data"
    },
    {
     "name": "stderr",
     "output_type": "stream",
     "text": [
      "Wed 05:35:41,696 INF Embedding generation completed                                                                                  \n"
     ]
    }
   ],
   "source": [
    "final_emb = emb.generate_emb(emb_loader)\n"
   ]
  },
  {
   "cell_type": "code",
   "execution_count": 10,
   "metadata": {},
   "outputs": [
    {
     "name": "stderr",
     "output_type": "stream",
     "text": [
      "49row [00:00, 16102.87row/s]\n",
      "Wed 05:36:02,663 INF Embeddings saved to /home/malav/mb_pytorch/data/emb_wrangled_file.csv                                           \n"
     ]
    }
   ],
   "source": [
    "emb.file_save(final_emb,logger=logger)"
   ]
  },
  {
   "cell_type": "code",
   "execution_count": 14,
   "metadata": {},
   "outputs": [],
   "source": [
    "from mb_pandas.src.dfload import load_any_df"
   ]
  },
  {
   "cell_type": "code",
   "execution_count": 15,
   "metadata": {},
   "outputs": [
    {
     "name": "stderr",
     "output_type": "stream",
     "text": [
      "49row [00:00, 8709.25row/s]\n"
     ]
    },
    {
     "data": {
      "text/plain": [
       "index                                                             0\n",
       "image_path                                                img_1.jpg\n",
       "image_type                                                 training\n",
       "image_path_new        /home/malav/mb_pytorch/data/images1/img_1.jpg\n",
       "img_path_check                                                 True\n",
       "img_verify                                                     True\n",
       "embedding         [1.8176723718643188, 0.0, 0.0, 1.1461054086685...\n",
       "Name: 0, dtype: object"
      ]
     },
     "execution_count": 15,
     "metadata": {},
     "output_type": "execute_result"
    }
   ],
   "source": [
    "t1 = load_any_df('../data/emb_wrangled_file.csv')\n",
    "t1.iloc[0]"
   ]
  },
  {
   "cell_type": "code",
   "execution_count": null,
   "metadata": {},
   "outputs": [],
   "source": []
  }
 ],
 "metadata": {
  "kernelspec": {
   "display_name": "Python 3",
   "language": "python",
   "name": "python3"
  },
  "language_info": {
   "codemirror_mode": {
    "name": "ipython",
    "version": 3
   },
   "file_extension": ".py",
   "mimetype": "text/x-python",
   "name": "python",
   "nbconvert_exporter": "python",
   "pygments_lexer": "ipython3",
   "version": "3.10.12"
  },
  "orig_nbformat": 4,
  "vscode": {
   "interpreter": {
    "hash": "31f2aee4e71d21fbe5cf8b01ff0e069b9275f58929596ceb00d14d90e3e16cd6"
   }
  }
 },
 "nbformat": 4,
 "nbformat_minor": 2
}
