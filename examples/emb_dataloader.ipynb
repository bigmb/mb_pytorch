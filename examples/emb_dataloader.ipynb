{
 "cells": [
  {
   "cell_type": "code",
   "execution_count": 1,
   "metadata": {},
   "outputs": [],
   "source": [
    "#Embedding generation using emb_dataloader which checks the path and verifies the file type and images"
   ]
  },
  {
   "cell_type": "code",
   "execution_count": 5,
   "metadata": {},
   "outputs": [],
   "source": [
    "# some packages need async support in jupyter\n",
    "import nest_asyncio\n",
    "nest_asyncio.apply()"
   ]
  },
  {
   "cell_type": "code",
   "execution_count": 6,
   "metadata": {},
   "outputs": [],
   "source": [
    "from mb_pytorch.utils.generate_emb import EmbeddingGenerator\n",
    "from mb_utils.src.logging import logger"
   ]
  },
  {
   "cell_type": "code",
   "execution_count": 7,
   "metadata": {},
   "outputs": [
    {
     "name": "stderr",
     "output_type": "stream",
     "text": [
      "Wed 05:35:30,350 INF Read data from yaml file: [{'data': {'from_datasets': 'CIFAR10', 'from_file': True, 'work_dir': '/home/malav/mb_\n",
      "Wed 05:35:30,354 INF Data folder already exists. Using existing data folder :  /home/malav/mb_pytorch/data/                          \n",
      "Wed 05:35:30,361 INF Read data from yaml file: [{'data': {'from_datasets': 'CIFAR10', 'from_file': True, 'work_dir': '/home/malav/mb_\n",
      "Wed 05:35:30,373 INF Read data from yaml file: [{'data': {'from_datasets': 'CIFAR10', 'from_file': True, 'work_dir': '/home/malav/mb_\n",
      "Wed 05:35:30,376 INF transforms: [ToTensor(), RandomHorizontalFlip(p=0.5), RandomRotation(degrees=[-90.0, 90.0], interpolation=neares\n"
     ]
    }
   ],
   "source": [
    "emb = EmbeddingGenerator('../scripts/embeddings/gen_emb_all.yaml', logger=logger)"
   ]
  },
  {
   "cell_type": "code",
   "execution_count": 8,
   "metadata": {},
   "outputs": [
    {
     "name": "stderr",
     "output_type": "stream",
     "text": [
      "Wed 05:35:31,265 INF Read data from yaml file: [{'data': {'from_datasets': 'CIFAR10', 'from_file': True, 'work_dir': '/home/malav/mb_\n",
      "Wed 05:35:31,267 INF transforms: [ToTensor(), RandomHorizontalFlip(p=0.5), RandomRotation(degrees=[-90.0, 90.0], interpolation=neares\n",
      "50row [00:00, 11199.74row/s]\n",
      "Wed 05:35:31,278 INF Loaded dataframe from /home/malav/mb_pytorch/data/csv/file_data.csv using asyncio                               \n",
      "Wed 05:35:31,282 INF Data file: {'from_datasets': 'CIFAR10', 'from_file': True, 'work_dir': '/home/malav/mb_pytorch/data/', 'file': '\n",
      "Wed 05:35:31,284 INF Data columns: Index(['image_path', 'image_type'], dtype='object')                                               \n",
      "Wed 05:35:31,287 INF Data will be split into train and validation according to train_file input : False                              \n",
      "Wed 05:35:31,289 INF If unnamed columns are present, they will be removed.                                                           \n",
      "Wed 05:35:31,291 INF If duplicate rows are present, they will be removed.                                                            \n",
      "Wed 05:35:31,293 INF Checking duplicates for the columns: ['image_path']                                                             \n",
      "Wed 05:35:31,297 INF No duplicates found                                                                                             \n",
      "Wed 05:35:31,298 INF Removing unnamed columns                                                                                        \n",
      "Wed 05:35:31,301 INF Columns : Index(['image_path', 'image_type'], dtype='object')                                                   \n",
      "Wed 05:35:31,305 INF Verifying paths                                                                                                 \n",
      "Wed 05:35:31,307 INF first path : /home/malav/mb_pytorch/data/images1/img_0.jpg                                                      \n",
      "Wed 05:35:31,388 INF self.data:     image_path  image_type                                  image_path_new  \\\n",
      "0    img_1.jpg    train\n",
      "Wed 05:35:31,390 INF Length of data after removing invalid paths: 49                                                                 \n",
      "Wed 05:35:31,392 INF Verifying images                                                                                                \n"
     ]
    }
   ],
   "source": [
    "emb_loader = emb.data_emb_loader(logger=logger)\n"
   ]
  },
  {
   "cell_type": "code",
   "execution_count": 9,
   "metadata": {},
   "outputs": [
    {
     "name": "stderr",
     "output_type": "stream",
     "text": [
      "/home/malav/.local/lib/python3.8/site-packages/torchvision/models/_utils.py:208: UserWarning: The parameter 'pretrained' is deprecated since 0.13 and may be removed in the future, please use 'weights' instead.\n",
      "  warnings.warn(\n",
      "/home/malav/.local/lib/python3.8/site-packages/torchvision/models/_utils.py:223: UserWarning: Arguments other than a weight enum or `None` for 'weights' are deprecated since 0.13 and may be removed in the future. The current behavior is equivalent to passing `weights=ResNet18_Weights.IMAGENET1K_V1`. You can also use `weights=ResNet18_Weights.DEFAULT` to get the most up-to-date weights.\n",
      "  warnings.warn(msg)\n",
      "Wed 05:35:40,684 INF Model set to resnet18                                                                                           \n",
      "Wed 05:35:40,695 INF Embedding generation started                                                                                    \n",
      "Wed 05:35:40,698 INF length of data: 13                                                                                              \n"
     ]
    },
    {
     "data": {
      "application/vnd.jupyter.widget-view+json": {
       "model_id": "e05fec40aad8424a81e1985da1b0d68b",
       "version_major": 2,
       "version_minor": 0
      },
      "text/plain": [
       "  0%|          | 0/13 [00:00<?, ?it/s]"
      ]
     },
     "metadata": {},
     "output_type": "display_data"
    },
    {
     "name": "stderr",
     "output_type": "stream",
     "text": [
      "Wed 05:35:41,696 INF Embedding generation completed                                                                                  \n"
     ]
    }
   ],
   "source": [
    "final_emb = emb.generate_emb(emb_loader)\n"
   ]
  },
  {
   "cell_type": "code",
   "execution_count": 10,
   "metadata": {},
   "outputs": [
    {
     "name": "stderr",
     "output_type": "stream",
     "text": [
      "49row [00:00, 16102.87row/s]\n",
      "Wed 05:36:02,663 INF Embeddings saved to /home/malav/mb_pytorch/data/emb_wrangled_file.csv                                           \n"
     ]
    }
   ],
   "source": [
    "emb.file_save(final_emb,logger=logger)"
   ]
  },
  {
   "cell_type": "code",
   "execution_count": 14,
   "metadata": {},
   "outputs": [],
   "source": [
    "from mb_pandas.src.dfload import load_any_df"
   ]
  },
  {
   "cell_type": "code",
   "execution_count": 15,
   "metadata": {},
   "outputs": [
    {
     "name": "stderr",
     "output_type": "stream",
     "text": [
      "49row [00:00, 8709.25row/s]\n"
     ]
    },
    {
     "data": {
      "text/plain": [
       "index                                                             0\n",
       "image_path                                                img_1.jpg\n",
       "image_type                                                 training\n",
       "image_path_new        /home/malav/mb_pytorch/data/images1/img_1.jpg\n",
       "img_path_check                                                 True\n",
       "img_verify                                                     True\n",
       "embedding         [1.8176723718643188, 0.0, 0.0, 1.1461054086685...\n",
       "Name: 0, dtype: object"
      ]
     },
     "execution_count": 15,
     "metadata": {},
     "output_type": "execute_result"
    }
   ],
   "source": [
    "t1 = load_any_df('../data/emb_wrangled_file.csv')\n",
    "t1.iloc[0]"
   ]
  },
  {
   "cell_type": "code",
   "execution_count": null,
   "metadata": {},
   "outputs": [],
   "source": []
  }
 ],
 "metadata": {
  "kernelspec": {
   "display_name": "Python 3",
   "language": "python",
   "name": "python3"
  },
  "language_info": {
   "codemirror_mode": {
    "name": "ipython",
    "version": 3
   },
   "file_extension": ".py",
   "mimetype": "text/x-python",
   "name": "python",
   "nbconvert_exporter": "python",
   "pygments_lexer": "ipython3",
   "version": "3.8.10 (default, Nov 14 2022, 12:59:47) \n[GCC 9.4.0]"
  },
  "orig_nbformat": 4,
  "vscode": {
   "interpreter": {
    "hash": "31f2aee4e71d21fbe5cf8b01ff0e069b9275f58929596ceb00d14d90e3e16cd6"
   }
  }
 },
 "nbformat": 4,
 "nbformat_minor": 2
}
