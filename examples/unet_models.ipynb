{
 "cells": [
  {
   "cell_type": "code",
   "execution_count": 10,
   "metadata": {},
   "outputs": [],
   "source": [
    "#function to test models \n",
    "import nest_asyncio\n",
    "nest_asyncio.apply()"
   ]
  },
  {
   "cell_type": "code",
   "execution_count": 20,
   "metadata": {},
   "outputs": [],
   "source": [
    "from mb_pytorch.models.modelloader import ModelLoader\n",
    "from mb_pytorch.dataloader.loader import DataLoader"
   ]
  },
  {
   "cell_type": "code",
   "execution_count": 21,
   "metadata": {},
   "outputs": [],
   "source": [
    "k = DataLoader('../scripts/model_load/loader_y.yaml')"
   ]
  },
  {
   "cell_type": "code",
   "execution_count": 22,
   "metadata": {},
   "outputs": [
    {
     "data": {
      "text/plain": [
       "{'data': {'from_datasets': 'CIFAR10',\n",
       "  'from_file': False,\n",
       "  'work_dir': '/home/malav/mb_pytorch/data/',\n",
       "  'file': '/home/malav/mb_pytorch/data/csv/file_data.csv',\n",
       "  'use_img_dir': True,\n",
       "  'img_dir': '/home/malav/mb_pytorch/data/images1/',\n",
       "  'thresholding_pd': 0},\n",
       " 'train_params': {'batch_size': 4,\n",
       "  'num_workers': 4,\n",
       "  'pin_memory': True,\n",
       "  'shuffle': True,\n",
       "  'seed': 42},\n",
       " 'test_params': {'batch_size': 4,\n",
       "  'num_workers': 4,\n",
       "  'pin_memory': True,\n",
       "  'shuffle': True,\n",
       "  'seed': 42},\n",
       " 'transforms_list': {'transform': True,\n",
       "  'resize': {'val': False, 'args': {'size': [256, 256]}},\n",
       "  'random_crop': {'val': False, 'args': {'size': [224, 224]}},\n",
       "  'random_horizontal_flip': {'val': True, 'args': {'p': 0.5}},\n",
       "  'random_vertical_flip': {'val': False, 'args': {'p': 0.5}},\n",
       "  'random_rotation': {'val': True, 'args': {'degrees': 90}},\n",
       "  'random_grayscale': {'val': False, 'args': {'p': 0.1}},\n",
       "  'random_color_jitter': {'val': True,\n",
       "   'args': {'brightness': 0.4,\n",
       "    'contrast': 0.4,\n",
       "    'saturation': 0.4,\n",
       "    'hue': 0.1}},\n",
       "  'normalize': {'val': False,\n",
       "   'args': {'mean': [0.485, 0.456, 0.406], 'std': [0.229, 0.224, 0.225]}},\n",
       "  'to_tensor': {'val': True}},\n",
       " 'model': {'use_torchvision_models': True,\n",
       "  'model_name': 'resnet',\n",
       "  'model_version': '50',\n",
       "  'model_path': '/home/malav/mb_pytorch/models/',\n",
       "  'model_optimizer': 'adam',\n",
       "  'model_loss': 'cross_entropy',\n",
       "  'model_pretrained': False,\n",
       "  'model_num_classes': 10,\n",
       "  'model_initialization': 'None',\n",
       "  'model_parameters': {'adam': {'lr': 0.001,\n",
       "    'betas': [0.9, 0.999],\n",
       "    'eps': '1e-08',\n",
       "    'weight_decay': 0,\n",
       "    'amsgrad': False},\n",
       "   'sgd': {'lr': 0.01,\n",
       "    'momentum': 0.9,\n",
       "    'dampening': 0,\n",
       "    'weight_decay': 0,\n",
       "    'nesterov': False},\n",
       "   'rmsprop': {'lr': 0.01,\n",
       "    'alpha': 0.99,\n",
       "    'eps': '1e-08',\n",
       "    'weight_decay': 0,\n",
       "    'momentum': 0,\n",
       "    'centered': False},\n",
       "   'cross_entropy': {'weight': 'None',\n",
       "    'size_average': 'None',\n",
       "    'ignore_index': -100,\n",
       "    'reduce': 'None',\n",
       "    'reduction': 'mean'},\n",
       "   'mse': {'size_average': 'None', 'reduce': 'None', 'reduction': 'mean'}}}}"
      ]
     },
     "execution_count": 22,
     "metadata": {},
     "output_type": "execute_result"
    }
   ],
   "source": [
    "k.data_dict"
   ]
  },
  {
   "cell_type": "code",
   "execution_count": 23,
   "metadata": {},
   "outputs": [],
   "source": [
    "model_data = ModelLoader(k.data_dict['model'])"
   ]
  },
  {
   "cell_type": "code",
   "execution_count": 24,
   "metadata": {},
   "outputs": [
    {
     "ename": "AttributeError",
     "evalue": "module 'torchvision.models' has no attribute 'model_name'",
     "output_type": "error",
     "traceback": [
      "\u001b[0;31m---------------------------------------------------------------------------\u001b[0m",
      "\u001b[0;31mAttributeError\u001b[0m                            Traceback (most recent call last)",
      "\u001b[0;32m<ipython-input-24-663da716cbb6>\u001b[0m in \u001b[0;36m<module>\u001b[0;34m\u001b[0m\n\u001b[0;32m----> 1\u001b[0;31m \u001b[0mmodel_data\u001b[0m\u001b[0;34m.\u001b[0m\u001b[0mget_model\u001b[0m\u001b[0;34m(\u001b[0m\u001b[0;34m)\u001b[0m\u001b[0;34m\u001b[0m\u001b[0;34m\u001b[0m\u001b[0m\n\u001b[0m",
      "\u001b[0;32m~/.local/lib/python3.8/site-packages/mb_pytorch/models/modelloader.py\u001b[0m in \u001b[0;36mget_model\u001b[0;34m(self)\u001b[0m\n\u001b[1;32m     43\u001b[0m                     \u001b[0;32mif\u001b[0m \u001b[0mself\u001b[0m\u001b[0;34m.\u001b[0m\u001b[0m_model_name\u001b[0m \u001b[0;32min\u001b[0m \u001b[0;34m[\u001b[0m\u001b[0;34m'resnet'\u001b[0m\u001b[0;34m,\u001b[0m \u001b[0;34m'vgg'\u001b[0m\u001b[0;34m,\u001b[0m \u001b[0;34m'densenet'\u001b[0m\u001b[0;34m,\u001b[0m \u001b[0;34m'googlenet'\u001b[0m\u001b[0;34m,\u001b[0m \u001b[0;34m'inception'\u001b[0m\u001b[0;34m,\u001b[0m \u001b[0;34m'mobilenet'\u001b[0m\u001b[0;34m,\u001b[0m \u001b[0;34m'mnasnet'\u001b[0m\u001b[0;34m,\u001b[0m \u001b[0;34m'shufflenet_v2'\u001b[0m\u001b[0;34m,\u001b[0m \u001b[0;34m'squeezenet'\u001b[0m\u001b[0;34m]\u001b[0m\u001b[0;34m:\u001b[0m\u001b[0;34m\u001b[0m\u001b[0;34m\u001b[0m\u001b[0m\n\u001b[1;32m     44\u001b[0m                         \u001b[0;31m# These models have pretrained weights available\u001b[0m\u001b[0;34m\u001b[0m\u001b[0;34m\u001b[0m\u001b[0;34m\u001b[0m\u001b[0m\n\u001b[0;32m---> 45\u001b[0;31m                         \u001b[0mself\u001b[0m\u001b[0;34m.\u001b[0m\u001b[0mmodel\u001b[0m \u001b[0;34m=\u001b[0m \u001b[0mself\u001b[0m\u001b[0;34m.\u001b[0m\u001b[0mmodel_type\u001b[0m\u001b[0;34m(\u001b[0m\u001b[0;34m)\u001b[0m\u001b[0;34m\u001b[0m\u001b[0;34m\u001b[0m\u001b[0m\n\u001b[0m\u001b[1;32m     46\u001b[0m             \u001b[0;32mexcept\u001b[0m \u001b[0mFileNotFoundError\u001b[0m\u001b[0;34m:\u001b[0m\u001b[0;34m\u001b[0m\u001b[0;34m\u001b[0m\u001b[0m\n\u001b[1;32m     47\u001b[0m                 \u001b[0;32mraise\u001b[0m \u001b[0mValueError\u001b[0m\u001b[0;34m(\u001b[0m\u001b[0;34mf\"Model {self._model_name} not found in torchvision.models.\"\u001b[0m\u001b[0;34m)\u001b[0m\u001b[0;34m\u001b[0m\u001b[0;34m\u001b[0m\u001b[0m\n",
      "\u001b[0;32m~/.local/lib/python3.8/site-packages/mb_pytorch/models/modelloader.py\u001b[0m in \u001b[0;36mmodel_type\u001b[0;34m(self)\u001b[0m\n\u001b[1;32m     24\u001b[0m         \"\"\"\n\u001b[1;32m     25\u001b[0m         \u001b[0mmodel_final\u001b[0m \u001b[0;34m=\u001b[0m \u001b[0mself\u001b[0m\u001b[0;34m.\u001b[0m\u001b[0m_model_name\u001b[0m \u001b[0;34m+\u001b[0m \u001b[0mself\u001b[0m\u001b[0;34m.\u001b[0m\u001b[0m_model_version\u001b[0m\u001b[0;34m\u001b[0m\u001b[0;34m\u001b[0m\u001b[0m\n\u001b[0;32m---> 26\u001b[0;31m         \u001b[0mmodel_out\u001b[0m \u001b[0;34m=\u001b[0m \u001b[0mgetattr\u001b[0m\u001b[0;34m(\u001b[0m\u001b[0mmodels\u001b[0m\u001b[0;34m.\u001b[0m\u001b[0mmodel_name\u001b[0m\u001b[0;34m,\u001b[0m\u001b[0mmodel_final\u001b[0m\u001b[0;34m)\u001b[0m\u001b[0;34m(\u001b[0m\u001b[0mpretrained\u001b[0m\u001b[0;34m=\u001b[0m\u001b[0mself\u001b[0m\u001b[0;34m.\u001b[0m\u001b[0m_model_pretrained\u001b[0m\u001b[0;34m)\u001b[0m\u001b[0;34m\u001b[0m\u001b[0;34m\u001b[0m\u001b[0m\n\u001b[0m\u001b[1;32m     27\u001b[0m         \u001b[0;32mreturn\u001b[0m \u001b[0mmodel_out\u001b[0m\u001b[0;34m\u001b[0m\u001b[0;34m\u001b[0m\u001b[0m\n\u001b[1;32m     28\u001b[0m \u001b[0;34m\u001b[0m\u001b[0m\n",
      "\u001b[0;31mAttributeError\u001b[0m: module 'torchvision.models' has no attribute 'model_name'"
     ]
    }
   ],
   "source": [
    "model_data.get_model()"
   ]
  },
  {
   "cell_type": "code",
   "execution_count": null,
   "metadata": {},
   "outputs": [],
   "source": []
  }
 ],
 "metadata": {
  "kernelspec": {
   "display_name": "Python 3",
   "language": "python",
   "name": "python3"
  },
  "language_info": {
   "codemirror_mode": {
    "name": "ipython",
    "version": 3
   },
   "file_extension": ".py",
   "mimetype": "text/x-python",
   "name": "python",
   "nbconvert_exporter": "python",
   "pygments_lexer": "ipython3",
   "version": "3.8.10"
  },
  "orig_nbformat": 4,
  "vscode": {
   "interpreter": {
    "hash": "31f2aee4e71d21fbe5cf8b01ff0e069b9275f58929596ceb00d14d90e3e16cd6"
   }
  }
 },
 "nbformat": 4,
 "nbformat_minor": 2
}
