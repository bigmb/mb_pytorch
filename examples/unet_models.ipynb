{
 "cells": [
  {
   "cell_type": "code",
   "execution_count": 1,
   "metadata": {},
   "outputs": [],
   "source": [
    "#function to test models \n",
    "import nest_asyncio\n",
    "nest_asyncio.apply()"
   ]
  },
  {
   "cell_type": "code",
   "execution_count": 2,
   "metadata": {},
   "outputs": [],
   "source": [
    "from mb_pytorch.models.modelloader import ModelLoader\n",
    "from mb_pytorch.dataloader.loader import DataLoader"
   ]
  },
  {
   "cell_type": "code",
   "execution_count": 3,
   "metadata": {},
   "outputs": [],
   "source": [
    "k = DataLoader('../scripts/model_load/loader_y.yaml')"
   ]
  },
  {
   "cell_type": "code",
   "execution_count": 4,
   "metadata": {},
   "outputs": [
    {
     "data": {
      "text/plain": [
       "{'data': {'from_datasets': 'CIFAR10',\n",
       "  'from_file': False,\n",
       "  'work_dir': '/home/malav/mb_pytorch/data/',\n",
       "  'file': '/home/malav/mb_pytorch/data/csv/file_data.csv',\n",
       "  'use_img_dir': True,\n",
       "  'img_dir': '/home/malav/mb_pytorch/data/images1/',\n",
       "  'thresholding_pd': 0},\n",
       " 'train_params': {'batch_size': 4,\n",
       "  'num_workers': 4,\n",
       "  'pin_memory': True,\n",
       "  'shuffle': True,\n",
       "  'seed': 42},\n",
       " 'test_params': {'batch_size': 4,\n",
       "  'num_workers': 4,\n",
       "  'pin_memory': True,\n",
       "  'shuffle': True,\n",
       "  'seed': 42},\n",
       " 'transforms_list': {'transform': True,\n",
       "  'resize': {'val': False, 'args': {'size': [256, 256]}},\n",
       "  'random_crop': {'val': False, 'args': {'size': [224, 224]}},\n",
       "  'random_horizontal_flip': {'val': True, 'args': {'p': 0.5}},\n",
       "  'random_vertical_flip': {'val': False, 'args': {'p': 0.5}},\n",
       "  'random_rotation': {'val': True, 'args': {'degrees': 90}},\n",
       "  'random_grayscale': {'val': False, 'args': {'p': 0.1}},\n",
       "  'random_color_jitter': {'val': True,\n",
       "   'args': {'brightness': 0.4,\n",
       "    'contrast': 0.4,\n",
       "    'saturation': 0.4,\n",
       "    'hue': 0.1}},\n",
       "  'normalize': {'val': False,\n",
       "   'args': {'mean': [0.485, 0.456, 0.406], 'std': [0.229, 0.224, 0.225]}},\n",
       "  'to_tensor': {'val': True}},\n",
       " 'model': {'load_model': False,\n",
       "  'use_torchvision_models': False,\n",
       "  'model_name': 'Unet',\n",
       "  'model_version': '50',\n",
       "  'model_custom': 'mb_pytorch.models.unet_models',\n",
       "  'model_path': '/home/malav/mb_pytorch/models/',\n",
       "  'model_optimizer': 'Adam',\n",
       "  'model_loss': 'cross_entropy',\n",
       "  'model_scheduler': 'StepLR',\n",
       "  'model_pretrained': False,\n",
       "  'model_num_classes': 10,\n",
       "  'model_initialization': 'None',\n",
       "  'model_epochs': 50,\n",
       "  'model_train_parameters': {'Adam': {'lr': 0.001,\n",
       "    'betas': [0.9, 0.999],\n",
       "    'eps': '1e-08',\n",
       "    'weight_decay': 0,\n",
       "    'amsgrad': False},\n",
       "   'SGD': {'lr': 0.01,\n",
       "    'momentum': 0.9,\n",
       "    'dampening': 0,\n",
       "    'weight_decay': 0,\n",
       "    'nesterov': False},\n",
       "   'RMSprop': {'lr': 0.01,\n",
       "    'alpha': 0.99,\n",
       "    'eps': '1e-08',\n",
       "    'weight_decay': 0,\n",
       "    'momentum': 0,\n",
       "    'centered': False},\n",
       "   'cross_entropy': {'weight': 'None',\n",
       "    'size_average': 'None',\n",
       "    'ignore_index': -100,\n",
       "    'reduce': 'None',\n",
       "    'reduction': 'mean'},\n",
       "   'mse': {'size_average': 'None', 'reduce': 'None', 'reduction': 'mean'},\n",
       "   'StepLR': {'step_size': 3, 'gamma': 0.2},\n",
       "   'ExponentialLR': {'gamma': 0.9}},\n",
       "  'unet_parameters': {'conv_depth': 1,\n",
       "   'bottleneck_conv_depth': 0,\n",
       "   'unet_depth': 4,\n",
       "   'n_channels': 3,\n",
       "   'n_classes': 10,\n",
       "   'n_filters': 64,\n",
       "   'linear_layers': 0,\n",
       "   'attention': False}}}"
      ]
     },
     "execution_count": 4,
     "metadata": {},
     "output_type": "execute_result"
    }
   ],
   "source": [
    "k.data_dict"
   ]
  },
  {
   "cell_type": "code",
   "execution_count": 5,
   "metadata": {},
   "outputs": [],
   "source": [
    "model_data = ModelLoader(k.data_dict['model'])"
   ]
  },
  {
   "cell_type": "code",
   "execution_count": 6,
   "metadata": {},
   "outputs": [
    {
     "data": {
      "text/plain": [
       "Unet(\n",
       "  (unet_conv): ModuleList(\n",
       "    (0): ConvBlock(\n",
       "      (convs): Sequential(\n",
       "        (conv_0): Conv2d(3, 64, kernel_size=(3, 3), stride=(1, 1))\n",
       "        (activation_0): ReLU()\n",
       "        (dropout_0): Dropout(p=0.0, inplace=False)\n",
       "        (conv_1): Conv2d(64, 64, kernel_size=(3, 3), stride=(1, 1))\n",
       "        (activation_1): ReLU()\n",
       "        (dropout_1): Dropout(p=0.0, inplace=False)\n",
       "        (pool_conv_block_1): MaxPool2d(kernel_size=2, stride=2, padding=0, dilation=1, ceil_mode=False)\n",
       "      )\n",
       "    )\n",
       "    (1): ConvBlock(\n",
       "      (convs): Sequential(\n",
       "        (conv_0): Conv2d(64, 128, kernel_size=(3, 3), stride=(1, 1))\n",
       "        (activation_0): ReLU()\n",
       "        (dropout_0): Dropout(p=0.0, inplace=False)\n",
       "        (conv_1): Conv2d(128, 128, kernel_size=(3, 3), stride=(1, 1))\n",
       "        (activation_1): ReLU()\n",
       "        (dropout_1): Dropout(p=0.0, inplace=False)\n",
       "        (pool_conv_block_1): MaxPool2d(kernel_size=2, stride=2, padding=0, dilation=1, ceil_mode=False)\n",
       "      )\n",
       "    )\n",
       "    (2): ConvBlock(\n",
       "      (convs): Sequential(\n",
       "        (conv_0): Conv2d(128, 256, kernel_size=(3, 3), stride=(1, 1))\n",
       "        (activation_0): ReLU()\n",
       "        (dropout_0): Dropout(p=0.0, inplace=False)\n",
       "        (conv_1): Conv2d(256, 256, kernel_size=(3, 3), stride=(1, 1))\n",
       "        (activation_1): ReLU()\n",
       "        (dropout_1): Dropout(p=0.0, inplace=False)\n",
       "        (pool_conv_block_1): MaxPool2d(kernel_size=2, stride=2, padding=0, dilation=1, ceil_mode=False)\n",
       "      )\n",
       "    )\n",
       "    (3): ConvBlock(\n",
       "      (convs): Sequential(\n",
       "        (conv_0): Conv2d(256, 512, kernel_size=(3, 3), stride=(1, 1))\n",
       "        (activation_0): ReLU()\n",
       "        (dropout_0): Dropout(p=0.0, inplace=False)\n",
       "        (conv_1): Conv2d(512, 512, kernel_size=(3, 3), stride=(1, 1))\n",
       "        (activation_1): ReLU()\n",
       "        (dropout_1): Dropout(p=0.0, inplace=False)\n",
       "        (pool_conv_block_1): MaxPool2d(kernel_size=2, stride=2, padding=0, dilation=1, ceil_mode=False)\n",
       "      )\n",
       "    )\n",
       "  )\n",
       "  (bottle_neck): ConvBlock(\n",
       "    (convs): Sequential(\n",
       "      (conv_0): Conv2d(512, 512, kernel_size=(3, 3), stride=(1, 1))\n",
       "      (activation_0): ReLU()\n",
       "      (dropout_0): Dropout(p=0.0, inplace=False)\n",
       "      (conv_1): Conv2d(512, 512, kernel_size=(3, 3), stride=(1, 1))\n",
       "      (activation_1): ReLU()\n",
       "      (dropout_1): Dropout(p=0.0, inplace=False)\n",
       "      (pool_conv_block_1): MaxPool2d(kernel_size=2, stride=2, padding=0, dilation=1, ceil_mode=False)\n",
       "    )\n",
       "  )\n",
       "  (unet_deconv): ModuleList(\n",
       "    (0): ConvBlock(\n",
       "      (convs): Sequential(\n",
       "        (conv_0): Conv2d(512, 256, kernel_size=(3, 3), stride=(1, 1))\n",
       "        (activation_0): ReLU()\n",
       "        (dropout_0): Dropout(p=0.0, inplace=False)\n",
       "        (conv_1): Conv2d(256, 256, kernel_size=(3, 3), stride=(1, 1))\n",
       "        (activation_1): ReLU()\n",
       "        (dropout_1): Dropout(p=0.0, inplace=False)\n",
       "        (up_sample_1): Upsample(scale_factor=2.0, mode='bilinear')\n",
       "      )\n",
       "    )\n",
       "    (1): ConvBlock(\n",
       "      (convs): Sequential(\n",
       "        (conv_0): Conv2d(256, 128, kernel_size=(3, 3), stride=(1, 1))\n",
       "        (activation_0): ReLU()\n",
       "        (dropout_0): Dropout(p=0.0, inplace=False)\n",
       "        (conv_1): Conv2d(128, 128, kernel_size=(3, 3), stride=(1, 1))\n",
       "        (activation_1): ReLU()\n",
       "        (dropout_1): Dropout(p=0.0, inplace=False)\n",
       "        (up_sample_1): Upsample(scale_factor=2.0, mode='bilinear')\n",
       "      )\n",
       "    )\n",
       "    (2): ConvBlock(\n",
       "      (convs): Sequential(\n",
       "        (conv_0): Conv2d(128, 64, kernel_size=(3, 3), stride=(1, 1))\n",
       "        (activation_0): ReLU()\n",
       "        (dropout_0): Dropout(p=0.0, inplace=False)\n",
       "        (conv_1): Conv2d(64, 64, kernel_size=(3, 3), stride=(1, 1))\n",
       "        (activation_1): ReLU()\n",
       "        (dropout_1): Dropout(p=0.0, inplace=False)\n",
       "        (up_sample_1): Upsample(scale_factor=2.0, mode='bilinear')\n",
       "      )\n",
       "    )\n",
       "  )\n",
       "  (final_conv): Conv2d(64, 10, kernel_size=(1, 1), stride=(1, 1))\n",
       "  (up_sample): Upsample(scale_factor=2.0, mode='bilinear')\n",
       "  (final_activation): Softmax(dim=1)\n",
       ")"
      ]
     },
     "execution_count": 6,
     "metadata": {},
     "output_type": "execute_result"
    }
   ],
   "source": [
    "model_data.get_model()"
   ]
  },
  {
   "cell_type": "code",
   "execution_count": 14,
   "metadata": {},
   "outputs": [
    {
     "name": "stdout",
     "output_type": "stream",
     "text": [
      "Files already downloaded and verified\n",
      "Files already downloaded and verified\n"
     ]
    }
   ],
   "source": [
    "train_loader,val_loader,_,_ = k.data_load()"
   ]
  },
  {
   "cell_type": "code",
   "execution_count": 16,
   "metadata": {},
   "outputs": [],
   "source": [
    "from mb_pytorch.training.train_params import train_helper"
   ]
  },
  {
   "cell_type": "code",
   "execution_count": null,
   "metadata": {},
   "outputs": [],
   "source": [
    "model_yaml_data = k.data_dict['model']\n",
    "loss,optimizer,optimizer_dict,scheduler,scheduler_dict = train_helper(model_yaml_data) "
   ]
  }
 ],
 "metadata": {
  "kernelspec": {
   "display_name": "Python 3",
   "language": "python",
   "name": "python3"
  },
  "language_info": {
   "codemirror_mode": {
    "name": "ipython",
    "version": 3
   },
   "file_extension": ".py",
   "mimetype": "text/x-python",
   "name": "python",
   "nbconvert_exporter": "python",
   "pygments_lexer": "ipython3",
   "version": "3.8.10"
  },
  "orig_nbformat": 4,
  "vscode": {
   "interpreter": {
    "hash": "31f2aee4e71d21fbe5cf8b01ff0e069b9275f58929596ceb00d14d90e3e16cd6"
   }
  }
 },
 "nbformat": 4,
 "nbformat_minor": 2
}
